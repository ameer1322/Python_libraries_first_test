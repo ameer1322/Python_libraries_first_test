{
 "cells": [
  {
   "cell_type": "code",
   "execution_count": 333,
   "id": "78c1936a-1bb0-4082-a3c0-47fbeaab01e3",
   "metadata": {},
   "outputs": [],
   "source": [
    "import numpy as np\n",
    "import pandas as pd\n",
    "import matplotlib.pyplot as plt"
   ]
  },
  {
   "cell_type": "code",
   "execution_count": 334,
   "id": "f622bf68-74d6-43ca-9d45-3a2fc84241de",
   "metadata": {},
   "outputs": [],
   "source": [
    "customers_df = pd.read_csv(r\"C:\\Users\\daxia\\Desktop\\AI digital\\Python libraries exam\\customers (2).csv\")\n",
    "items_df = pd.read_csv(r\"C:\\Users\\daxia\\Desktop\\AI digital\\Python libraries exam\\Items (2).csv\")\n",
    "order_item_df = pd.read_csv(r\"C:\\Users\\daxia\\Desktop\\AI digital\\Python libraries exam\\order_item (2).csv\")\n",
    "orders_df = pd.read_csv(r\"C:\\Users\\daxia\\Desktop\\AI digital\\Python libraries exam\\orders (2).csv\")"
   ]
  },
  {
   "cell_type": "code",
   "execution_count": 335,
   "id": "347ea911-9d79-43d0-bd40-5a4240342470",
   "metadata": {},
   "outputs": [],
   "source": [
    "customers_df_copy = customers_df.copy()\n",
    "items_df_copy = items_df.copy()\n",
    "order_item_df_copy = order_item_df.copy()\n",
    "orders_df_copy = orders_df.copy()"
   ]
  },
  {
   "cell_type": "code",
   "execution_count": 336,
   "id": "e400de1c-fddf-4ffe-9541-372f52036a39",
   "metadata": {},
   "outputs": [],
   "source": [
    "##Data Preperation:\n",
    "##1.Handle duplicate data in item dataset"
   ]
  },
  {
   "cell_type": "code",
   "execution_count": 337,
   "id": "6a77cf2b-7b3c-4f5c-a0cd-413bee8e8cb0",
   "metadata": {},
   "outputs": [],
   "source": [
    "duplicated_items = items_df_copy[items_df_copy.duplicated([\"item_name\",\"item_brand\"],keep = False)]"
   ]
  },
  {
   "cell_type": "code",
   "execution_count": 338,
   "id": "3211daab-38fa-40c6-a624-6b6222c49e8a",
   "metadata": {},
   "outputs": [
    {
     "data": {
      "text/html": [
       "<div>\n",
       "<style scoped>\n",
       "    .dataframe tbody tr th:only-of-type {\n",
       "        vertical-align: middle;\n",
       "    }\n",
       "\n",
       "    .dataframe tbody tr th {\n",
       "        vertical-align: top;\n",
       "    }\n",
       "\n",
       "    .dataframe thead th {\n",
       "        text-align: right;\n",
       "    }\n",
       "</style>\n",
       "<table border=\"1\" class=\"dataframe\">\n",
       "  <thead>\n",
       "    <tr style=\"text-align: right;\">\n",
       "      <th></th>\n",
       "      <th>id</th>\n",
       "      <th>item_name</th>\n",
       "      <th>item_category</th>\n",
       "      <th>item_price</th>\n",
       "      <th>stock_quantity</th>\n",
       "      <th>item_brand</th>\n",
       "      <th>item_availability</th>\n",
       "    </tr>\n",
       "  </thead>\n",
       "  <tbody>\n",
       "  </tbody>\n",
       "</table>\n",
       "</div>"
      ],
      "text/plain": [
       "Empty DataFrame\n",
       "Columns: [id, item_name, item_category, item_price, stock_quantity, item_brand, item_availability]\n",
       "Index: []"
      ]
     },
     "execution_count": 338,
     "metadata": {},
     "output_type": "execute_result"
    }
   ],
   "source": [
    "duplicated_items"
   ]
  },
  {
   "cell_type": "code",
   "execution_count": 339,
   "id": "9c5d801a-0652-4ea2-9f3f-08dc6286aba9",
   "metadata": {},
   "outputs": [],
   "source": [
    "##No duplicates with same name and item brand exist"
   ]
  },
  {
   "cell_type": "code",
   "execution_count": 340,
   "id": "81c1ca92-68d0-485f-9728-f513bc71dbe8",
   "metadata": {},
   "outputs": [],
   "source": [
    "duplicated_items = items_df_copy[items_df_copy.duplicated([\"item_name\"],keep = False)]"
   ]
  },
  {
   "cell_type": "code",
   "execution_count": 341,
   "id": "9e0365af-a84d-4472-9f81-00aa8b2869d6",
   "metadata": {},
   "outputs": [
    {
     "data": {
      "text/html": [
       "<div>\n",
       "<style scoped>\n",
       "    .dataframe tbody tr th:only-of-type {\n",
       "        vertical-align: middle;\n",
       "    }\n",
       "\n",
       "    .dataframe tbody tr th {\n",
       "        vertical-align: top;\n",
       "    }\n",
       "\n",
       "    .dataframe thead th {\n",
       "        text-align: right;\n",
       "    }\n",
       "</style>\n",
       "<table border=\"1\" class=\"dataframe\">\n",
       "  <thead>\n",
       "    <tr style=\"text-align: right;\">\n",
       "      <th></th>\n",
       "      <th>id</th>\n",
       "      <th>item_name</th>\n",
       "      <th>item_category</th>\n",
       "      <th>item_price</th>\n",
       "      <th>stock_quantity</th>\n",
       "      <th>item_brand</th>\n",
       "      <th>item_availability</th>\n",
       "    </tr>\n",
       "  </thead>\n",
       "  <tbody>\n",
       "    <tr>\n",
       "      <th>47</th>\n",
       "      <td>48</td>\n",
       "      <td>Camera</td>\n",
       "      <td>Photography Equipment</td>\n",
       "      <td>2039.08</td>\n",
       "      <td>471.0</td>\n",
       "      <td>Panasonic</td>\n",
       "      <td>True</td>\n",
       "    </tr>\n",
       "    <tr>\n",
       "      <th>6</th>\n",
       "      <td>7</td>\n",
       "      <td>Camera</td>\n",
       "      <td>Photography Equipment</td>\n",
       "      <td>2366.72</td>\n",
       "      <td>458.0</td>\n",
       "      <td>Microsoft</td>\n",
       "      <td>True</td>\n",
       "    </tr>\n",
       "    <tr>\n",
       "      <th>2</th>\n",
       "      <td>3</td>\n",
       "      <td>Desktop</td>\n",
       "      <td>Computers and Accessories</td>\n",
       "      <td>1121.84</td>\n",
       "      <td>334.0</td>\n",
       "      <td>HP</td>\n",
       "      <td>True</td>\n",
       "    </tr>\n",
       "    <tr>\n",
       "      <th>43</th>\n",
       "      <td>44</td>\n",
       "      <td>Desktop</td>\n",
       "      <td>Computers and Accessories</td>\n",
       "      <td>723.59</td>\n",
       "      <td>1119.0</td>\n",
       "      <td>JBL</td>\n",
       "      <td>True</td>\n",
       "    </tr>\n",
       "    <tr>\n",
       "      <th>7</th>\n",
       "      <td>8</td>\n",
       "      <td>Headphone</td>\n",
       "      <td>NaN</td>\n",
       "      <td>3117.19</td>\n",
       "      <td>599.0</td>\n",
       "      <td>NaN</td>\n",
       "      <td>True</td>\n",
       "    </tr>\n",
       "    <tr>\n",
       "      <th>48</th>\n",
       "      <td>49</td>\n",
       "      <td>Headphone</td>\n",
       "      <td>Audio Equipment</td>\n",
       "      <td>1317.56</td>\n",
       "      <td>NaN</td>\n",
       "      <td>Sony</td>\n",
       "      <td>False</td>\n",
       "    </tr>\n",
       "    <tr>\n",
       "      <th>1</th>\n",
       "      <td>2</td>\n",
       "      <td>Laptop</td>\n",
       "      <td>Computers and Accessories</td>\n",
       "      <td>1851.32</td>\n",
       "      <td>493.0</td>\n",
       "      <td>HP</td>\n",
       "      <td>True</td>\n",
       "    </tr>\n",
       "    <tr>\n",
       "      <th>42</th>\n",
       "      <td>43</td>\n",
       "      <td>Laptop</td>\n",
       "      <td>Computers and Accessories</td>\n",
       "      <td>4153.61</td>\n",
       "      <td>1018.0</td>\n",
       "      <td>Dell</td>\n",
       "      <td>True</td>\n",
       "    </tr>\n",
       "    <tr>\n",
       "      <th>5</th>\n",
       "      <td>6</td>\n",
       "      <td>Printer</td>\n",
       "      <td>Printers and Office Equipment</td>\n",
       "      <td>4175.99</td>\n",
       "      <td>971.0</td>\n",
       "      <td>Sony</td>\n",
       "      <td>True</td>\n",
       "    </tr>\n",
       "    <tr>\n",
       "      <th>46</th>\n",
       "      <td>47</td>\n",
       "      <td>Printer</td>\n",
       "      <td>Printers and Office Equipment</td>\n",
       "      <td>3704.16</td>\n",
       "      <td>239.0</td>\n",
       "      <td>Toshiba</td>\n",
       "      <td>True</td>\n",
       "    </tr>\n",
       "    <tr>\n",
       "      <th>3</th>\n",
       "      <td>4</td>\n",
       "      <td>Smartphone</td>\n",
       "      <td>Mobile Devices and Accessories</td>\n",
       "      <td>965.20</td>\n",
       "      <td>201.0</td>\n",
       "      <td>Bose</td>\n",
       "      <td>True</td>\n",
       "    </tr>\n",
       "    <tr>\n",
       "      <th>44</th>\n",
       "      <td>45</td>\n",
       "      <td>Smartphone</td>\n",
       "      <td>Mobile Devices and Accessories</td>\n",
       "      <td>3513.56</td>\n",
       "      <td>1162.0</td>\n",
       "      <td>Panasonic</td>\n",
       "      <td>True</td>\n",
       "    </tr>\n",
       "    <tr>\n",
       "      <th>8</th>\n",
       "      <td>9</td>\n",
       "      <td>Speaker</td>\n",
       "      <td>Audio Equipment</td>\n",
       "      <td>4471.27</td>\n",
       "      <td>1360.0</td>\n",
       "      <td>Toshiba</td>\n",
       "      <td>True</td>\n",
       "    </tr>\n",
       "    <tr>\n",
       "      <th>49</th>\n",
       "      <td>50</td>\n",
       "      <td>Speaker</td>\n",
       "      <td>Audio Equipment</td>\n",
       "      <td>4453.90</td>\n",
       "      <td>937.0</td>\n",
       "      <td>Logitech</td>\n",
       "      <td>True</td>\n",
       "    </tr>\n",
       "    <tr>\n",
       "      <th>4</th>\n",
       "      <td>5</td>\n",
       "      <td>Tablet</td>\n",
       "      <td>NaN</td>\n",
       "      <td>2739.61</td>\n",
       "      <td>190.0</td>\n",
       "      <td>Toshiba</td>\n",
       "      <td>True</td>\n",
       "    </tr>\n",
       "    <tr>\n",
       "      <th>45</th>\n",
       "      <td>46</td>\n",
       "      <td>Tablet</td>\n",
       "      <td>Mobile Devices and Accessories</td>\n",
       "      <td>1606.65</td>\n",
       "      <td>267.0</td>\n",
       "      <td>HP</td>\n",
       "      <td>True</td>\n",
       "    </tr>\n",
       "    <tr>\n",
       "      <th>41</th>\n",
       "      <td>42</td>\n",
       "      <td>Television</td>\n",
       "      <td>Televisions and Displays</td>\n",
       "      <td>479.19</td>\n",
       "      <td>670.0</td>\n",
       "      <td>Samsung</td>\n",
       "      <td>True</td>\n",
       "    </tr>\n",
       "    <tr>\n",
       "      <th>0</th>\n",
       "      <td>1</td>\n",
       "      <td>Television</td>\n",
       "      <td>Televisions and Displays</td>\n",
       "      <td>356.81</td>\n",
       "      <td>1009.0</td>\n",
       "      <td>JBL</td>\n",
       "      <td>True</td>\n",
       "    </tr>\n",
       "  </tbody>\n",
       "</table>\n",
       "</div>"
      ],
      "text/plain": [
       "    id   item_name                   item_category  item_price  \\\n",
       "47  48      Camera           Photography Equipment     2039.08   \n",
       "6    7      Camera           Photography Equipment     2366.72   \n",
       "2    3     Desktop       Computers and Accessories     1121.84   \n",
       "43  44     Desktop       Computers and Accessories      723.59   \n",
       "7    8   Headphone                             NaN     3117.19   \n",
       "48  49   Headphone                 Audio Equipment     1317.56   \n",
       "1    2      Laptop       Computers and Accessories     1851.32   \n",
       "42  43      Laptop       Computers and Accessories     4153.61   \n",
       "5    6     Printer   Printers and Office Equipment     4175.99   \n",
       "46  47     Printer   Printers and Office Equipment     3704.16   \n",
       "3    4  Smartphone  Mobile Devices and Accessories      965.20   \n",
       "44  45  Smartphone  Mobile Devices and Accessories     3513.56   \n",
       "8    9     Speaker                 Audio Equipment     4471.27   \n",
       "49  50     Speaker                 Audio Equipment     4453.90   \n",
       "4    5      Tablet                             NaN     2739.61   \n",
       "45  46      Tablet  Mobile Devices and Accessories     1606.65   \n",
       "41  42  Television        Televisions and Displays      479.19   \n",
       "0    1  Television        Televisions and Displays      356.81   \n",
       "\n",
       "    stock_quantity item_brand  item_availability  \n",
       "47           471.0  Panasonic               True  \n",
       "6            458.0  Microsoft               True  \n",
       "2            334.0         HP               True  \n",
       "43          1119.0        JBL               True  \n",
       "7            599.0        NaN               True  \n",
       "48             NaN       Sony              False  \n",
       "1            493.0         HP               True  \n",
       "42          1018.0       Dell               True  \n",
       "5            971.0       Sony               True  \n",
       "46           239.0    Toshiba               True  \n",
       "3            201.0       Bose               True  \n",
       "44          1162.0  Panasonic               True  \n",
       "8           1360.0    Toshiba               True  \n",
       "49           937.0   Logitech               True  \n",
       "4            190.0    Toshiba               True  \n",
       "45           267.0         HP               True  \n",
       "41           670.0    Samsung               True  \n",
       "0           1009.0        JBL               True  "
      ]
     },
     "execution_count": 341,
     "metadata": {},
     "output_type": "execute_result"
    }
   ],
   "source": [
    "duplicated_items.sort_values(\"item_name\")"
   ]
  },
  {
   "cell_type": "code",
   "execution_count": 342,
   "id": "9879d3b7-e6a1-49c2-a019-36daf405fb4d",
   "metadata": {},
   "outputs": [],
   "source": [
    "items_df_copy.drop(7, inplace=True)"
   ]
  },
  {
   "cell_type": "code",
   "execution_count": 343,
   "id": "b5abc30d-919f-439d-9825-372718d806ad",
   "metadata": {},
   "outputs": [],
   "source": [
    "order_item_df_copy[\"item_id\"] = order_item_df_copy[\"item_id\"].replace({8:49})"
   ]
  },
  {
   "cell_type": "code",
   "execution_count": 344,
   "id": "d063ed5e-66e8-45a2-a803-36ffbf98be30",
   "metadata": {},
   "outputs": [],
   "source": [
    "##2.Handle duplicate data in customer dataset"
   ]
  },
  {
   "cell_type": "code",
   "execution_count": 345,
   "id": "32b627ab-96a1-4ef4-90c6-289343dcf349",
   "metadata": {},
   "outputs": [
    {
     "data": {
      "text/html": [
       "<div>\n",
       "<style scoped>\n",
       "    .dataframe tbody tr th:only-of-type {\n",
       "        vertical-align: middle;\n",
       "    }\n",
       "\n",
       "    .dataframe tbody tr th {\n",
       "        vertical-align: top;\n",
       "    }\n",
       "\n",
       "    .dataframe thead th {\n",
       "        text-align: right;\n",
       "    }\n",
       "</style>\n",
       "<table border=\"1\" class=\"dataframe\">\n",
       "  <thead>\n",
       "    <tr style=\"text-align: right;\">\n",
       "      <th></th>\n",
       "      <th>id</th>\n",
       "      <th>first_name</th>\n",
       "      <th>last_name</th>\n",
       "      <th>gender</th>\n",
       "      <th>age</th>\n",
       "      <th>nationallity</th>\n",
       "      <th>joining_date</th>\n",
       "      <th>phone_number</th>\n",
       "      <th>email</th>\n",
       "    </tr>\n",
       "  </thead>\n",
       "  <tbody>\n",
       "  </tbody>\n",
       "</table>\n",
       "</div>"
      ],
      "text/plain": [
       "Empty DataFrame\n",
       "Columns: [id, first_name, last_name, gender, age, nationallity, joining_date, phone_number, email]\n",
       "Index: []"
      ]
     },
     "execution_count": 345,
     "metadata": {},
     "output_type": "execute_result"
    }
   ],
   "source": [
    "customers_df_copy[customers_df_copy.duplicated(\"email\")]"
   ]
  },
  {
   "cell_type": "code",
   "execution_count": 346,
   "id": "557d2724-9715-4312-a66f-2ef4a9f528a3",
   "metadata": {},
   "outputs": [],
   "source": [
    "##No duplicates with same email"
   ]
  },
  {
   "cell_type": "code",
   "execution_count": 347,
   "id": "785a8d3c-a4db-4b09-b313-a4a64aaff149",
   "metadata": {},
   "outputs": [],
   "source": [
    "##3.Handle missing data in all datasets:"
   ]
  },
  {
   "cell_type": "code",
   "execution_count": 348,
   "id": "d7e470e5-f37e-4304-ad4e-3ec290c5e439",
   "metadata": {},
   "outputs": [
    {
     "data": {
      "text/plain": [
       "id                    0.000000\n",
       "item_name             0.000000\n",
       "item_category        14.285714\n",
       "item_price            0.000000\n",
       "stock_quantity       10.204082\n",
       "item_brand            4.081633\n",
       "item_availability     0.000000\n",
       "dtype: float64"
      ]
     },
     "execution_count": 348,
     "metadata": {},
     "output_type": "execute_result"
    }
   ],
   "source": [
    "missing_data = items_df_copy.isna().sum()\n",
    "all_rows = items_df_copy.isna().count()\n",
    "missing_data_percentage = missing_data*100/all_rows\n",
    "missing_data_percentage"
   ]
  },
  {
   "cell_type": "code",
   "execution_count": 349,
   "id": "5aea12c3-376e-4912-b653-24e07844c499",
   "metadata": {},
   "outputs": [],
   "source": [
    "items_df_copy[\"item_category\"] = items_df_copy[\"item_category\"].fillna(\"Unknown\")"
   ]
  },
  {
   "cell_type": "code",
   "execution_count": 350,
   "id": "56375490-19da-4aec-914e-1b32eb844f1e",
   "metadata": {},
   "outputs": [],
   "source": [
    "items_df_copy[\"stock_quantity\"] = items_df_copy[\"stock_quantity\"].fillna(-1)"
   ]
  },
  {
   "cell_type": "code",
   "execution_count": 351,
   "id": "0981a6ee-e405-495a-b2df-45e9056c9107",
   "metadata": {},
   "outputs": [],
   "source": [
    "items_df_copy.dropna(subset=\"item_brand\", inplace=True)"
   ]
  },
  {
   "cell_type": "code",
   "execution_count": 352,
   "id": "bfbd7475-218b-46d8-a4a3-1ba323836aea",
   "metadata": {},
   "outputs": [],
   "source": [
    "order_item_df_copy = order_item_df_copy[order_item_df_copy[\"item_id\"].isin(items_df_copy[\"id\"])]"
   ]
  },
  {
   "cell_type": "code",
   "execution_count": 353,
   "id": "921200c1-5918-4bdd-bdd0-a4d41ca852da",
   "metadata": {},
   "outputs": [],
   "source": [
    "orders_df_copy = orders_df_copy[orders_df_copy[\"order_id\"].isin(order_item_df_copy[\"order_id\"])]"
   ]
  },
  {
   "cell_type": "code",
   "execution_count": 354,
   "id": "46f82e02-b416-4159-a407-256b43e41433",
   "metadata": {},
   "outputs": [],
   "source": [
    "order_item_df_copy = order_item_df_copy[order_item_df_copy[\"order_id\"].isin(orders_df_copy[\"order_id\"])]"
   ]
  },
  {
   "cell_type": "code",
   "execution_count": 355,
   "id": "e161c1b7-99f6-447e-8711-3aaacce7d770",
   "metadata": {},
   "outputs": [
    {
     "data": {
      "text/plain": [
       "id               0.0\n",
       "first_name       0.0\n",
       "last_name        0.0\n",
       "gender          10.6\n",
       "age              5.0\n",
       "nationallity     0.0\n",
       "joining_date    12.2\n",
       "phone_number     0.0\n",
       "email            0.0\n",
       "dtype: float64"
      ]
     },
     "execution_count": 355,
     "metadata": {},
     "output_type": "execute_result"
    }
   ],
   "source": [
    "missing_data = customers_df_copy.isna().sum()\n",
    "all_rows = customers_df_copy.isna().count()\n",
    "missing_data_percentage = missing_data*100/all_rows\n",
    "missing_data_percentage"
   ]
  },
  {
   "cell_type": "code",
   "execution_count": 356,
   "id": "bd97cb06-9960-4fea-921f-5322f01f0ac7",
   "metadata": {},
   "outputs": [],
   "source": [
    "customers_df_copy[\"gender\"] = customers_df_copy[\"gender\"].fillna(\"Unknown\")"
   ]
  },
  {
   "cell_type": "code",
   "execution_count": 357,
   "id": "abfea7e4-881f-4092-9a81-603d92442cc6",
   "metadata": {},
   "outputs": [],
   "source": [
    "customers_df_copy[\"joining_date\"] = customers_df_copy[\"joining_date\"].fillna(\"1900-01-01\")"
   ]
  },
  {
   "cell_type": "code",
   "execution_count": 358,
   "id": "a4bee7ac-bb66-45a9-be2a-84a0c01fcd7a",
   "metadata": {},
   "outputs": [],
   "source": [
    "customers_df_copy[\"age\"] = customers_df_copy[\"age\"].fillna(round(customers_df_copy[\"age\"].mean()))"
   ]
  },
  {
   "cell_type": "code",
   "execution_count": 359,
   "id": "e7f6bd86-1f30-4362-b563-9470f468c48a",
   "metadata": {},
   "outputs": [
    {
     "data": {
      "text/plain": [
       "order_id             0.000000\n",
       "customer_id          6.928406\n",
       "delivery_address     0.000000\n",
       "delivery_days       12.009238\n",
       "order_date           0.000000\n",
       "payment_method       0.000000\n",
       "order_source         0.000000\n",
       "dtype: float64"
      ]
     },
     "execution_count": 359,
     "metadata": {},
     "output_type": "execute_result"
    }
   ],
   "source": [
    "missing_data = orders_df_copy.isna().sum()\n",
    "all_rows = orders_df_copy.isna().count()\n",
    "missing_data_percentage = missing_data*100/all_rows\n",
    "missing_data_percentage"
   ]
  },
  {
   "cell_type": "code",
   "execution_count": 360,
   "id": "addf8951-db55-47ce-a43d-8b4a098331e2",
   "metadata": {},
   "outputs": [],
   "source": [
    "orders_df_copy.dropna(subset=\"customer_id\", inplace=True)"
   ]
  },
  {
   "cell_type": "code",
   "execution_count": 361,
   "id": "e0f9801d-1ec8-4667-aa91-0906bae462ba",
   "metadata": {},
   "outputs": [],
   "source": [
    "orders_df_copy[\"delivery_days\"] = orders_df_copy[\"delivery_days\"].fillna(round(orders_df_copy[\"delivery_days\"].mean()))"
   ]
  },
  {
   "cell_type": "code",
   "execution_count": 362,
   "id": "ce2488d5-fe46-477f-8be5-a9be826db362",
   "metadata": {},
   "outputs": [
    {
     "data": {
      "text/plain": [
       "Unnamed: 0    0.0\n",
       "id            0.0\n",
       "order_id      0.0\n",
       "item_id       0.0\n",
       "quantity      0.0\n",
       "dtype: float64"
      ]
     },
     "execution_count": 362,
     "metadata": {},
     "output_type": "execute_result"
    }
   ],
   "source": [
    "missing_data = order_item_df_copy.isna().sum()\n",
    "all_rows = order_item_df_copy.isna().count()\n",
    "missing_data_percentage = missing_data*100/all_rows\n",
    "missing_data_percentage"
   ]
  },
  {
   "cell_type": "code",
   "execution_count": 363,
   "id": "c2a2fd67-9625-4b88-aef4-2b42ecfdb9f9",
   "metadata": {},
   "outputs": [],
   "source": [
    "##Data analysis\n",
    "##1.Explore the customer.csv dataset\n",
    "##a."
   ]
  },
  {
   "cell_type": "code",
   "execution_count": 364,
   "id": "7f0e5770-1375-4dd7-bc76-7a283256d7c1",
   "metadata": {},
   "outputs": [],
   "source": [
    "customers_by_gender = customers_df_copy.groupby(\"gender\")[\"gender\"].count()"
   ]
  },
  {
   "cell_type": "code",
   "execution_count": 365,
   "id": "d8746a07-6627-469a-a80c-6517e63589c2",
   "metadata": {},
   "outputs": [],
   "source": [
    "customers_by_gender = customers_by_gender.reset_index(name=\"count\")"
   ]
  },
  {
   "cell_type": "code",
   "execution_count": 366,
   "id": "97af0a12-e201-4f01-bf99-3dd2d0a7209f",
   "metadata": {},
   "outputs": [
    {
     "data": {
      "text/html": [
       "<div>\n",
       "<style scoped>\n",
       "    .dataframe tbody tr th:only-of-type {\n",
       "        vertical-align: middle;\n",
       "    }\n",
       "\n",
       "    .dataframe tbody tr th {\n",
       "        vertical-align: top;\n",
       "    }\n",
       "\n",
       "    .dataframe thead th {\n",
       "        text-align: right;\n",
       "    }\n",
       "</style>\n",
       "<table border=\"1\" class=\"dataframe\">\n",
       "  <thead>\n",
       "    <tr style=\"text-align: right;\">\n",
       "      <th></th>\n",
       "      <th>gender</th>\n",
       "      <th>count</th>\n",
       "    </tr>\n",
       "  </thead>\n",
       "  <tbody>\n",
       "    <tr>\n",
       "      <th>0</th>\n",
       "      <td>Agender</td>\n",
       "      <td>13</td>\n",
       "    </tr>\n",
       "    <tr>\n",
       "      <th>1</th>\n",
       "      <td>Bigender</td>\n",
       "      <td>5</td>\n",
       "    </tr>\n",
       "    <tr>\n",
       "      <th>2</th>\n",
       "      <td>Female</td>\n",
       "      <td>203</td>\n",
       "    </tr>\n",
       "    <tr>\n",
       "      <th>3</th>\n",
       "      <td>Genderfluid</td>\n",
       "      <td>12</td>\n",
       "    </tr>\n",
       "    <tr>\n",
       "      <th>4</th>\n",
       "      <td>Genderqueer</td>\n",
       "      <td>5</td>\n",
       "    </tr>\n",
       "    <tr>\n",
       "      <th>5</th>\n",
       "      <td>Male</td>\n",
       "      <td>196</td>\n",
       "    </tr>\n",
       "    <tr>\n",
       "      <th>6</th>\n",
       "      <td>Non-binary</td>\n",
       "      <td>7</td>\n",
       "    </tr>\n",
       "    <tr>\n",
       "      <th>7</th>\n",
       "      <td>Polygender</td>\n",
       "      <td>6</td>\n",
       "    </tr>\n",
       "    <tr>\n",
       "      <th>8</th>\n",
       "      <td>Unknown</td>\n",
       "      <td>53</td>\n",
       "    </tr>\n",
       "  </tbody>\n",
       "</table>\n",
       "</div>"
      ],
      "text/plain": [
       "        gender  count\n",
       "0      Agender     13\n",
       "1     Bigender      5\n",
       "2       Female    203\n",
       "3  Genderfluid     12\n",
       "4  Genderqueer      5\n",
       "5         Male    196\n",
       "6   Non-binary      7\n",
       "7   Polygender      6\n",
       "8      Unknown     53"
      ]
     },
     "execution_count": 366,
     "metadata": {},
     "output_type": "execute_result"
    }
   ],
   "source": [
    "customers_by_gender"
   ]
  },
  {
   "cell_type": "code",
   "execution_count": 367,
   "id": "c7e11e7f-b889-4265-afa6-37ca5cd1ba11",
   "metadata": {},
   "outputs": [
    {
     "data": {
      "text/plain": [
       "Text(0, 0.5, 'Customers count')"
      ]
     },
     "execution_count": 367,
     "metadata": {},
     "output_type": "execute_result"
    },
    {
     "data": {
      "image/png": "[encoded data removed]",
      "text/plain": [
       "<Figure size 1200x800 with 1 Axes>"
      ]
     },
     "metadata": {},
     "output_type": "display_data"
    }
   ],
   "source": [
    "plt.figure(figsize=(12,8))\n",
    "plt.bar(customers_by_gender[\"gender\"],customers_by_gender[\"count\"])\n",
    "plt.title(\"Number of customers by gender\")\n",
    "plt.xlabel(\"Gender\")\n",
    "plt.ylabel(\"Customers count\")"
   ]
  },
  {
   "cell_type": "code",
   "execution_count": 368,
   "id": "fdb9f5ef-e932-402d-b46c-046c5d9eb7c1",
   "metadata": {},
   "outputs": [],
   "source": [
    "##b."
   ]
  },
  {
   "cell_type": "code",
   "execution_count": 369,
   "id": "e32699a3-c8ff-4480-9d3a-3407cbacb58f",
   "metadata": {},
   "outputs": [
    {
     "data": {
      "text/plain": [
       "Text(0, 0.5, 'Count')"
      ]
     },
     "execution_count": 369,
     "metadata": {},
     "output_type": "execute_result"
    },
    {
     "data": {
      "image/png": "[encoded data removed]",
      "text/plain": [
       "<Figure size 640x480 with 1 Axes>"
      ]
     },
     "metadata": {},
     "output_type": "display_data"
    }
   ],
   "source": [
    "plt.hist(customers_df_copy[\"age\"], bins=20)\n",
    "plt.title(\"Customers count by age\")\n",
    "plt.xlabel(\"Age\")\n",
    "plt.ylabel(\"Count\")"
   ]
  },
  {
   "cell_type": "code",
   "execution_count": 370,
   "id": "7593baf8-a883-4e99-a8d4-8cb09447d185",
   "metadata": {},
   "outputs": [],
   "source": [
    "##c."
   ]
  },
  {
   "cell_type": "code",
   "execution_count": 371,
   "id": "78727b1b-4067-4975-874e-4aa50f835b37",
   "metadata": {},
   "outputs": [],
   "source": [
    "customers_known_join_date = customers_df_copy[customers_df_copy[\"joining_date\"] != \"1900-01-01\"]"
   ]
  },
  {
   "cell_type": "code",
   "execution_count": 372,
   "id": "4f1c5cd1-0b56-432f-aa08-b1a71d95b914",
   "metadata": {},
   "outputs": [
    {
     "name": "stderr",
     "output_type": "stream",
     "text": [
      "C:\\Users\\daxia\\AppData\\Local\\Temp\\ipykernel_75244\\2994969090.py:1: SettingWithCopyWarning: \n",
      "A value is trying to be set on a copy of a slice from a DataFrame.\n",
      "Try using .loc[row_indexer,col_indexer] = value instead\n",
      "\n",
      "See the caveats in the documentation: https://pandas.pydata.org/pandas-docs/stable/user_guide/indexing.html#returning-a-view-versus-a-copy\n",
      "  customers_known_join_date[\"joining_date\"] = pd.to_datetime(customers_known_join_date[\"joining_date\"])\n"
     ]
    }
   ],
   "source": [
    "customers_known_join_date[\"joining_date\"] = pd.to_datetime(customers_known_join_date[\"joining_date\"])"
   ]
  },
  {
   "cell_type": "code",
   "execution_count": 373,
   "id": "6c802159-f07b-44c3-a82b-e14d98d65482",
   "metadata": {},
   "outputs": [],
   "source": [
    "customers_known_join_date = customers_known_join_date.set_index(\"joining_date\")"
   ]
  },
  {
   "cell_type": "code",
   "execution_count": 374,
   "id": "782fc0a6-b986-440a-92aa-1265029ce2b7",
   "metadata": {},
   "outputs": [],
   "source": [
    "customers_joined_by_year = customers_known_join_date.resample(rule=\"YE\")[\"id\"].count()"
   ]
  },
  {
   "cell_type": "code",
   "execution_count": 375,
   "id": "c61f467f-fc52-4f39-8153-c551d4428d12",
   "metadata": {},
   "outputs": [],
   "source": [
    "customers_joined_by_year = customers_joined_by_year.reset_index(name = \"customers\")"
   ]
  },
  {
   "cell_type": "code",
   "execution_count": 376,
   "id": "a7bdc6bf-5880-4057-a817-5cc840f43a89",
   "metadata": {},
   "outputs": [
    {
     "data": {
      "text/html": [
       "<div>\n",
       "<style scoped>\n",
       "    .dataframe tbody tr th:only-of-type {\n",
       "        vertical-align: middle;\n",
       "    }\n",
       "\n",
       "    .dataframe tbody tr th {\n",
       "        vertical-align: top;\n",
       "    }\n",
       "\n",
       "    .dataframe thead th {\n",
       "        text-align: right;\n",
       "    }\n",
       "</style>\n",
       "<table border=\"1\" class=\"dataframe\">\n",
       "  <thead>\n",
       "    <tr style=\"text-align: right;\">\n",
       "      <th></th>\n",
       "      <th>joining_date</th>\n",
       "      <th>customers</th>\n",
       "    </tr>\n",
       "  </thead>\n",
       "  <tbody>\n",
       "    <tr>\n",
       "      <th>0</th>\n",
       "      <td>2020-12-31</td>\n",
       "      <td>138</td>\n",
       "    </tr>\n",
       "    <tr>\n",
       "      <th>1</th>\n",
       "      <td>2021-12-31</td>\n",
       "      <td>138</td>\n",
       "    </tr>\n",
       "    <tr>\n",
       "      <th>2</th>\n",
       "      <td>2022-12-31</td>\n",
       "      <td>163</td>\n",
       "    </tr>\n",
       "  </tbody>\n",
       "</table>\n",
       "</div>"
      ],
      "text/plain": [
       "  joining_date  customers\n",
       "0   2020-12-31        138\n",
       "1   2021-12-31        138\n",
       "2   2022-12-31        163"
      ]
     },
     "execution_count": 376,
     "metadata": {},
     "output_type": "execute_result"
    }
   ],
   "source": [
    "customers_joined_by_year"
   ]
  },
  {
   "cell_type": "code",
   "execution_count": 377,
   "id": "cf4a7645-07ae-4ade-a964-8128a213d0e1",
   "metadata": {},
   "outputs": [],
   "source": [
    "##The year with most joining customers is the year 2022"
   ]
  },
  {
   "cell_type": "code",
   "execution_count": 378,
   "id": "fe4dddb7-d22a-484d-9959-585193222136",
   "metadata": {},
   "outputs": [],
   "source": [
    "##d."
   ]
  },
  {
   "cell_type": "code",
   "execution_count": 379,
   "id": "71547886-1ad3-4f11-bb10-51f24c914577",
   "metadata": {},
   "outputs": [],
   "source": [
    "customers_joined_by_day = customers_known_join_date.resample(rule=\"ME\")[\"id\"].count()"
   ]
  },
  {
   "cell_type": "code",
   "execution_count": 380,
   "id": "7685f11b-0874-44d2-b4c2-a4eed5dd5b2d",
   "metadata": {},
   "outputs": [],
   "source": [
    "customers_joined_by_day = customers_joined_by_day.reset_index(name = \"customers\")"
   ]
  },
  {
   "cell_type": "code",
   "execution_count": 381,
   "id": "88cecbbe-0a18-4f3e-8865-cf23c0efdfbf",
   "metadata": {},
   "outputs": [
    {
     "data": {
      "text/plain": [
       "Text(0, 0.5, 'Amount of customers joining')"
      ]
     },
     "execution_count": 381,
     "metadata": {},
     "output_type": "execute_result"
    },
    {
     "data": {
      "image/png": "[encoded data removed]",
      "text/plain": [
       "<Figure size 1000x800 with 1 Axes>"
      ]
     },
     "metadata": {},
     "output_type": "display_data"
    }
   ],
   "source": [
    "plt.figure(figsize=(10,8))\n",
    "plt.plot(customers_joined_by_day[\"joining_date\"],customers_joined_by_day[\"customers\"])\n",
    "plt.xlabel(\"Date\")\n",
    "plt.ylabel(\"Amount of customers joining\")"
   ]
  },
  {
   "cell_type": "code",
   "execution_count": 382,
   "id": "ea21a8b8-9aae-42ef-b41c-991390698704",
   "metadata": {},
   "outputs": [],
   "source": [
    "##There doesn't seem to be a consistent increase or decrease in customers joining over the timeframe."
   ]
  },
  {
   "cell_type": "code",
   "execution_count": 383,
   "id": "fcf30000-b7b1-4a58-9a94-caac954bfbf1",
   "metadata": {},
   "outputs": [],
   "source": [
    "##e."
   ]
  },
  {
   "cell_type": "code",
   "execution_count": 384,
   "id": "b9f4e950-532d-4d7e-ae45-ea3a37fe9e70",
   "metadata": {},
   "outputs": [],
   "source": [
    "customers_joined_by_month = customers_joined_by_day"
   ]
  },
  {
   "cell_type": "code",
   "execution_count": 385,
   "id": "43d45ef0-b121-4539-aeea-fab622545daa",
   "metadata": {},
   "outputs": [],
   "source": [
    "customers_joined_by_month[\"joining_date\"] = customers_joined_by_day[\"joining_date\"].dt.month"
   ]
  },
  {
   "cell_type": "code",
   "execution_count": 386,
   "id": "269e91da-aafa-41ca-a265-8cc527750280",
   "metadata": {},
   "outputs": [],
   "source": [
    "customers_joined_by_month = customers_joined_by_month.groupby(\"joining_date\")[\"customers\"].sum()"
   ]
  },
  {
   "cell_type": "code",
   "execution_count": 387,
   "id": "76fef2b5-769d-4995-b662-6d2a6a66ce54",
   "metadata": {},
   "outputs": [
    {
     "data": {
      "text/plain": [
       "joining_date\n",
       "1     29\n",
       "2     43\n",
       "3     30\n",
       "4     34\n",
       "5     40\n",
       "6     34\n",
       "7     29\n",
       "8     48\n",
       "9     34\n",
       "10    36\n",
       "11    31\n",
       "12    51\n",
       "Name: customers, dtype: int64"
      ]
     },
     "execution_count": 387,
     "metadata": {},
     "output_type": "execute_result"
    }
   ],
   "source": [
    "customers_joined_by_month"
   ]
  },
  {
   "cell_type": "code",
   "execution_count": 388,
   "id": "4496786d-28fc-40c6-9184-bcbe50eab3db",
   "metadata": {},
   "outputs": [],
   "source": [
    "customers_joined_by_month = customers_joined_by_month.reset_index()"
   ]
  },
  {
   "cell_type": "code",
   "execution_count": 389,
   "id": "09d8760b-88f5-44d0-aaff-16f86fd033ca",
   "metadata": {},
   "outputs": [
    {
     "data": {
      "text/plain": [
       "Text(0, 0.5, 'Customers')"
      ]
     },
     "execution_count": 389,
     "metadata": {},
     "output_type": "execute_result"
    },
    {
     "data": {
      "image/png": "[encoded data removed]",
      "text/plain": [
       "<Figure size 640x480 with 1 Axes>"
      ]
     },
     "metadata": {},
     "output_type": "display_data"
    }
   ],
   "source": [
    "plt.bar(customers_joined_by_month[\"joining_date\"],customers_joined_by_month[\"customers\"])\n",
    "plt.title(\"Customers joining by month\")\n",
    "plt.xlabel(\"Month\")\n",
    "plt.ylabel(\"Customers\")"
   ]
  },
  {
   "cell_type": "code",
   "execution_count": 390,
   "id": "c55d5c32-3233-4619-9fcd-469f5f2a4b5d",
   "metadata": {},
   "outputs": [],
   "source": [
    "##According to the chart, there is a slight increase in customers joining in the months of: February, March, August and December."
   ]
  },
  {
   "cell_type": "code",
   "execution_count": 391,
   "id": "f6c96d5f-736e-47a5-bbd0-0ba77cbe857e",
   "metadata": {},
   "outputs": [],
   "source": [
    "##2.Explore the items.csv dataset"
   ]
  },
  {
   "cell_type": "code",
   "execution_count": 392,
   "id": "0cfff7d8-b883-4b22-8091-783004b15899",
   "metadata": {},
   "outputs": [],
   "source": [
    "##a."
   ]
  },
  {
   "cell_type": "code",
   "execution_count": 393,
   "id": "fdf12531-42f2-415d-b40d-8c4199c52e96",
   "metadata": {},
   "outputs": [],
   "source": [
    "items_by_category = items_df_copy.groupby(\"item_category\").size()"
   ]
  },
  {
   "cell_type": "code",
   "execution_count": 394,
   "id": "2b2097f5-9037-4d1c-9b07-f7ca1efd19e1",
   "metadata": {},
   "outputs": [],
   "source": [
    "items_by_category = items_by_category.reset_index(name = \"count\")"
   ]
  },
  {
   "cell_type": "code",
   "execution_count": 395,
   "id": "ad5ec8f7-4947-4186-86c9-10148e47bd09",
   "metadata": {},
   "outputs": [
    {
     "data": {
      "text/html": [
       "<div>\n",
       "<style scoped>\n",
       "    .dataframe tbody tr th:only-of-type {\n",
       "        vertical-align: middle;\n",
       "    }\n",
       "\n",
       "    .dataframe tbody tr th {\n",
       "        vertical-align: top;\n",
       "    }\n",
       "\n",
       "    .dataframe thead th {\n",
       "        text-align: right;\n",
       "    }\n",
       "</style>\n",
       "<table border=\"1\" class=\"dataframe\">\n",
       "  <thead>\n",
       "    <tr style=\"text-align: right;\">\n",
       "      <th></th>\n",
       "      <th>item_category</th>\n",
       "      <th>count</th>\n",
       "    </tr>\n",
       "  </thead>\n",
       "  <tbody>\n",
       "    <tr>\n",
       "      <th>0</th>\n",
       "      <td>Audio Equipment</td>\n",
       "      <td>3</td>\n",
       "    </tr>\n",
       "    <tr>\n",
       "      <th>1</th>\n",
       "      <td>Cables</td>\n",
       "      <td>1</td>\n",
       "    </tr>\n",
       "    <tr>\n",
       "      <th>2</th>\n",
       "      <td>Computers and Accessories</td>\n",
       "      <td>8</td>\n",
       "    </tr>\n",
       "    <tr>\n",
       "      <th>3</th>\n",
       "      <td>Gaming Equipment</td>\n",
       "      <td>2</td>\n",
       "    </tr>\n",
       "    <tr>\n",
       "      <th>4</th>\n",
       "      <td>Mobile Devices and Accessories</td>\n",
       "      <td>7</td>\n",
       "    </tr>\n",
       "    <tr>\n",
       "      <th>5</th>\n",
       "      <td>Network Equipment</td>\n",
       "      <td>1</td>\n",
       "    </tr>\n",
       "    <tr>\n",
       "      <th>6</th>\n",
       "      <td>Photography Equipment</td>\n",
       "      <td>6</td>\n",
       "    </tr>\n",
       "    <tr>\n",
       "      <th>7</th>\n",
       "      <td>Printers and Office Equipment</td>\n",
       "      <td>6</td>\n",
       "    </tr>\n",
       "    <tr>\n",
       "      <th>8</th>\n",
       "      <td>Storage Devices</td>\n",
       "      <td>1</td>\n",
       "    </tr>\n",
       "    <tr>\n",
       "      <th>9</th>\n",
       "      <td>Televisions and Displays</td>\n",
       "      <td>4</td>\n",
       "    </tr>\n",
       "    <tr>\n",
       "      <th>10</th>\n",
       "      <td>Unknown</td>\n",
       "      <td>7</td>\n",
       "    </tr>\n",
       "    <tr>\n",
       "      <th>11</th>\n",
       "      <td>Video Players and Recorders</td>\n",
       "      <td>1</td>\n",
       "    </tr>\n",
       "  </tbody>\n",
       "</table>\n",
       "</div>"
      ],
      "text/plain": [
       "                     item_category  count\n",
       "0                  Audio Equipment      3\n",
       "1                           Cables      1\n",
       "2        Computers and Accessories      8\n",
       "3                 Gaming Equipment      2\n",
       "4   Mobile Devices and Accessories      7\n",
       "5                Network Equipment      1\n",
       "6            Photography Equipment      6\n",
       "7    Printers and Office Equipment      6\n",
       "8                  Storage Devices      1\n",
       "9         Televisions and Displays      4\n",
       "10                         Unknown      7\n",
       "11     Video Players and Recorders      1"
      ]
     },
     "execution_count": 395,
     "metadata": {},
     "output_type": "execute_result"
    }
   ],
   "source": [
    "items_by_category"
   ]
  },
  {
   "cell_type": "code",
   "execution_count": 396,
   "id": "cc8f2b5d-beae-4eea-86a3-712cd767337e",
   "metadata": {},
   "outputs": [
    {
     "data": {
      "text/plain": [
       "([<matplotlib.patches.Wedge at 0x1eaefe811d0>,\n",
       "  <matplotlib.patches.Wedge at 0x1eaefe81450>,\n",
       "  <matplotlib.patches.Wedge at 0x1eaefe816d0>,\n",
       "  <matplotlib.patches.Wedge at 0x1eaefe81950>,\n",
       "  <matplotlib.patches.Wedge at 0x1eaefe81bd0>,\n",
       "  <matplotlib.patches.Wedge at 0x1eaefe81e50>,\n",
       "  <matplotlib.patches.Wedge at 0x1eaefe820d0>,\n",
       "  <matplotlib.patches.Wedge at 0x1eaefe82350>,\n",
       "  <matplotlib.patches.Wedge at 0x1eaefe825d0>,\n",
       "  <matplotlib.patches.Wedge at 0x1eaefe82850>,\n",
       "  <matplotlib.patches.Wedge at 0x1eaefe82ad0>,\n",
       "  <matplotlib.patches.Wedge at 0x1eaefe82d50>],\n",
       " [Text(1.0779578754290626, 0.21910458416122053, 'Audio Equipment'),\n",
       "  Text(0.9817707139300372, 0.4961111420531745, 'Cables'),\n",
       "  Text(0.528639889763134, 0.9646449434642892, 'Computers and Accessories'),\n",
       "  Text(-0.18296238101407203, 1.0846772640438544, 'Gaming Equipment'),\n",
       "  Text(-0.7647117379628761, 0.7907059869646857, 'Mobile Devices and Accessories'),\n",
       "  Text(-1.0609161408655394, 0.2906147657139448, 'Network Equipment'),\n",
       "  Text(-1.0779578562743268, -0.2191046783992939, 'Photography Equipment'),\n",
       "  Text(-0.5918907261277618, -0.9271814106872242, 'Printers and Office Equipment'),\n",
       "  Text(-0.11010524801270881, -1.0944755978824106, 'Storage Devices'),\n",
       "  Text(0.2550020086103809, -1.0700345674811966, 'Televisions and Displays'),\n",
       "  Text(0.9068855274257894, -0.622542079016068, 'Unknown'),\n",
       "  Text(1.0975435676412324, -0.07347187985451241, 'Video Players and Recorders')])"
      ]
     },
     "execution_count": 396,
     "metadata": {},
     "output_type": "execute_result"
    },
    {
     "data": {
      "image/png": "[encoded data removed]",
      "text/plain": [
       "<Figure size 1000x800 with 1 Axes>"
      ]
     },
     "metadata": {},
     "output_type": "display_data"
    }
   ],
   "source": [
    "plt.figure(figsize=(10,8))\n",
    "plt.pie(items_by_category[\"count\"], labels=items_by_category[\"item_category\"])"
   ]
  },
  {
   "cell_type": "code",
   "execution_count": 397,
   "id": "7f8ae24f-8d31-4de3-bd27-81193de0aa7a",
   "metadata": {},
   "outputs": [],
   "source": [
    "##b."
   ]
  },
  {
   "cell_type": "code",
   "execution_count": 398,
   "id": "e9a3dd1d-2650-48bd-bc93-41e89d14a1ae",
   "metadata": {},
   "outputs": [],
   "source": [
    "items_known_stock = items_df_copy[items_df_copy[\"stock_quantity\"]!=-1]"
   ]
  },
  {
   "cell_type": "code",
   "execution_count": 399,
   "id": "e522c23e-803c-4966-a7c9-6ad281b14b36",
   "metadata": {},
   "outputs": [],
   "source": [
    "max_stock_item = items_known_stock[items_known_stock[\"stock_quantity\"]==items_known_stock[\"stock_quantity\"].max()]"
   ]
  },
  {
   "cell_type": "code",
   "execution_count": 400,
   "id": "fc7beac4-4030-4c9f-93f9-63dcc0737ca7",
   "metadata": {},
   "outputs": [],
   "source": [
    "min_stock_item = items_known_stock[items_known_stock[\"stock_quantity\"]==items_known_stock[\"stock_quantity\"].min()]"
   ]
  },
  {
   "cell_type": "code",
   "execution_count": 401,
   "id": "c6ee1f28-d35e-486e-8cec-15ea213f120a",
   "metadata": {},
   "outputs": [
    {
     "data": {
      "text/html": [
       "<div>\n",
       "<style scoped>\n",
       "    .dataframe tbody tr th:only-of-type {\n",
       "        vertical-align: middle;\n",
       "    }\n",
       "\n",
       "    .dataframe tbody tr th {\n",
       "        vertical-align: top;\n",
       "    }\n",
       "\n",
       "    .dataframe thead th {\n",
       "        text-align: right;\n",
       "    }\n",
       "</style>\n",
       "<table border=\"1\" class=\"dataframe\">\n",
       "  <thead>\n",
       "    <tr style=\"text-align: right;\">\n",
       "      <th></th>\n",
       "      <th>id</th>\n",
       "      <th>item_name</th>\n",
       "      <th>item_category</th>\n",
       "      <th>item_price</th>\n",
       "      <th>stock_quantity</th>\n",
       "      <th>item_brand</th>\n",
       "      <th>item_availability</th>\n",
       "    </tr>\n",
       "  </thead>\n",
       "  <tbody>\n",
       "    <tr>\n",
       "      <th>34</th>\n",
       "      <td>35</td>\n",
       "      <td>Wi-Fi Router</td>\n",
       "      <td>Network Equipment</td>\n",
       "      <td>3812.53</td>\n",
       "      <td>14.0</td>\n",
       "      <td>Microsoft</td>\n",
       "      <td>True</td>\n",
       "    </tr>\n",
       "  </tbody>\n",
       "</table>\n",
       "</div>"
      ],
      "text/plain": [
       "    id     item_name      item_category  item_price  stock_quantity  \\\n",
       "34  35  Wi-Fi Router  Network Equipment     3812.53            14.0   \n",
       "\n",
       "   item_brand  item_availability  \n",
       "34  Microsoft               True  "
      ]
     },
     "execution_count": 401,
     "metadata": {},
     "output_type": "execute_result"
    }
   ],
   "source": [
    "min_stock_item"
   ]
  },
  {
   "cell_type": "code",
   "execution_count": 402,
   "id": "b47e53b9-f97f-43ec-867f-f7bc15fe63ca",
   "metadata": {},
   "outputs": [],
   "source": [
    "min_max_df = pd.concat([max_stock_item, min_stock_item])"
   ]
  },
  {
   "cell_type": "code",
   "execution_count": 403,
   "id": "3743b59b-4154-42c8-b463-7838c8dd8a64",
   "metadata": {},
   "outputs": [
    {
     "data": {
      "text/html": [
       "<div>\n",
       "<style scoped>\n",
       "    .dataframe tbody tr th:only-of-type {\n",
       "        vertical-align: middle;\n",
       "    }\n",
       "\n",
       "    .dataframe tbody tr th {\n",
       "        vertical-align: top;\n",
       "    }\n",
       "\n",
       "    .dataframe thead th {\n",
       "        text-align: right;\n",
       "    }\n",
       "</style>\n",
       "<table border=\"1\" class=\"dataframe\">\n",
       "  <thead>\n",
       "    <tr style=\"text-align: right;\">\n",
       "      <th></th>\n",
       "      <th>id</th>\n",
       "      <th>item_name</th>\n",
       "      <th>item_category</th>\n",
       "      <th>item_price</th>\n",
       "      <th>stock_quantity</th>\n",
       "      <th>item_brand</th>\n",
       "      <th>item_availability</th>\n",
       "    </tr>\n",
       "  </thead>\n",
       "  <tbody>\n",
       "    <tr>\n",
       "      <th>40</th>\n",
       "      <td>41</td>\n",
       "      <td>VR Headset</td>\n",
       "      <td>Unknown</td>\n",
       "      <td>1905.01</td>\n",
       "      <td>1367.0</td>\n",
       "      <td>JBL</td>\n",
       "      <td>True</td>\n",
       "    </tr>\n",
       "    <tr>\n",
       "      <th>34</th>\n",
       "      <td>35</td>\n",
       "      <td>Wi-Fi Router</td>\n",
       "      <td>Network Equipment</td>\n",
       "      <td>3812.53</td>\n",
       "      <td>14.0</td>\n",
       "      <td>Microsoft</td>\n",
       "      <td>True</td>\n",
       "    </tr>\n",
       "  </tbody>\n",
       "</table>\n",
       "</div>"
      ],
      "text/plain": [
       "    id     item_name      item_category  item_price  stock_quantity  \\\n",
       "40  41    VR Headset            Unknown     1905.01          1367.0   \n",
       "34  35  Wi-Fi Router  Network Equipment     3812.53            14.0   \n",
       "\n",
       "   item_brand  item_availability  \n",
       "40        JBL               True  \n",
       "34  Microsoft               True  "
      ]
     },
     "execution_count": 403,
     "metadata": {},
     "output_type": "execute_result"
    }
   ],
   "source": [
    "min_max_df"
   ]
  },
  {
   "cell_type": "code",
   "execution_count": 404,
   "id": "5511e178-89cc-42d1-ab9f-f472c3e1a312",
   "metadata": {},
   "outputs": [],
   "source": [
    "##c."
   ]
  },
  {
   "cell_type": "code",
   "execution_count": 405,
   "id": "95d13c4a-fb80-458e-b46e-184be2bccdd0",
   "metadata": {},
   "outputs": [],
   "source": [
    "mean_stock = round(items_known_stock[\"stock_quantity\"].mean())"
   ]
  },
  {
   "cell_type": "code",
   "execution_count": 406,
   "id": "c34ef69c-bd9a-48a0-aa39-ecba63b0d8be",
   "metadata": {},
   "outputs": [
    {
     "name": "stdout",
     "output_type": "stream",
     "text": [
      "The mean quantity of stock of all items is 750\n"
     ]
    }
   ],
   "source": [
    "print(f\"The mean quantity of stock of all items is {mean_stock}\")"
   ]
  },
  {
   "cell_type": "code",
   "execution_count": 407,
   "id": "16aa4786-4628-4db2-88f5-32b6c45eef05",
   "metadata": {},
   "outputs": [],
   "source": [
    "##3.Explore the orders.csv dataset"
   ]
  },
  {
   "cell_type": "code",
   "execution_count": 408,
   "id": "07dfefee-0dbf-48a8-bcf4-05da43e92b4a",
   "metadata": {},
   "outputs": [],
   "source": [
    "##a."
   ]
  },
  {
   "cell_type": "code",
   "execution_count": 409,
   "id": "74d8f9b6-99f3-49dc-92ae-41205be6a2e5",
   "metadata": {},
   "outputs": [],
   "source": [
    "customers_orders = orders_df_copy.groupby(\"customer_id\").size()"
   ]
  },
  {
   "cell_type": "code",
   "execution_count": 410,
   "id": "bdd835da-f13a-4471-a711-6c2c74b71583",
   "metadata": {},
   "outputs": [],
   "source": [
    "customers_orders = customers_orders.reset_index(name=\"orders\")"
   ]
  },
  {
   "cell_type": "code",
   "execution_count": 411,
   "id": "1685bcbe-5e71-4c2d-bba9-7e9e9d554826",
   "metadata": {},
   "outputs": [],
   "source": [
    "customers_orders_count = customers_orders.groupby(\"orders\").size()"
   ]
  },
  {
   "cell_type": "code",
   "execution_count": 412,
   "id": "294b1ad1-fe15-40a0-8fba-b9aebca0dd03",
   "metadata": {},
   "outputs": [],
   "source": [
    "customers_orders_count = customers_orders_count.reset_index(name=\"customers_count\")"
   ]
  },
  {
   "cell_type": "code",
   "execution_count": 413,
   "id": "c4582a3c-9506-47b5-be31-e2e41d56d015",
   "metadata": {},
   "outputs": [
    {
     "data": {
      "text/html": [
       "<div>\n",
       "<style scoped>\n",
       "    .dataframe tbody tr th:only-of-type {\n",
       "        vertical-align: middle;\n",
       "    }\n",
       "\n",
       "    .dataframe tbody tr th {\n",
       "        vertical-align: top;\n",
       "    }\n",
       "\n",
       "    .dataframe thead th {\n",
       "        text-align: right;\n",
       "    }\n",
       "</style>\n",
       "<table border=\"1\" class=\"dataframe\">\n",
       "  <thead>\n",
       "    <tr style=\"text-align: right;\">\n",
       "      <th></th>\n",
       "      <th>orders</th>\n",
       "      <th>customers_count</th>\n",
       "    </tr>\n",
       "  </thead>\n",
       "  <tbody>\n",
       "    <tr>\n",
       "      <th>0</th>\n",
       "      <td>1</td>\n",
       "      <td>167</td>\n",
       "    </tr>\n",
       "    <tr>\n",
       "      <th>1</th>\n",
       "      <td>2</td>\n",
       "      <td>74</td>\n",
       "    </tr>\n",
       "    <tr>\n",
       "      <th>2</th>\n",
       "      <td>3</td>\n",
       "      <td>22</td>\n",
       "    </tr>\n",
       "    <tr>\n",
       "      <th>3</th>\n",
       "      <td>4</td>\n",
       "      <td>3</td>\n",
       "    </tr>\n",
       "    <tr>\n",
       "      <th>4</th>\n",
       "      <td>5</td>\n",
       "      <td>2</td>\n",
       "    </tr>\n",
       "  </tbody>\n",
       "</table>\n",
       "</div>"
      ],
      "text/plain": [
       "   orders  customers_count\n",
       "0       1              167\n",
       "1       2               74\n",
       "2       3               22\n",
       "3       4                3\n",
       "4       5                2"
      ]
     },
     "execution_count": 413,
     "metadata": {},
     "output_type": "execute_result"
    }
   ],
   "source": [
    "customers_orders_count"
   ]
  },
  {
   "cell_type": "code",
   "execution_count": 414,
   "id": "e791f48e-7b65-4da7-975e-ba2933bf64fa",
   "metadata": {},
   "outputs": [
    {
     "data": {
      "text/plain": [
       "Text(0, 0.5, 'Customers count')"
      ]
     },
     "execution_count": 414,
     "metadata": {},
     "output_type": "execute_result"
    },
    {
     "data": {
      "image/png": "[encoded data removed]",
      "text/plain": [
       "<Figure size 640x480 with 1 Axes>"
      ]
     },
     "metadata": {},
     "output_type": "display_data"
    }
   ],
   "source": [
    "plt.bar(customers_orders_count[\"orders\"],customers_orders_count[\"customers_count\"])\n",
    "plt.title(\"Customers count by order amount\")\n",
    "plt.xlabel(\"Amount of orders\")\n",
    "plt.ylabel(\"Customers count\")\n"
   ]
  },
  {
   "cell_type": "code",
   "execution_count": 415,
   "id": "600ec104-afb0-4ea9-ac84-f256d41aa9bd",
   "metadata": {},
   "outputs": [],
   "source": [
    "customers_names_orders = customers_df_copy.merge(orders_df_copy, left_on=\"id\", right_on=\"customer_id\", how=\"inner\")"
   ]
  },
  {
   "cell_type": "code",
   "execution_count": 416,
   "id": "da9d364f-7a37-4007-8fcd-77ec25bdde5f",
   "metadata": {},
   "outputs": [],
   "source": [
    "customers_orders_amount = customers_names_orders.groupby(\"id\").size()"
   ]
  },
  {
   "cell_type": "code",
   "execution_count": 417,
   "id": "7a41e98d-0c7f-4803-ad31-ec684b4e6675",
   "metadata": {},
   "outputs": [],
   "source": [
    "customers_orders_amount = customers_orders_amount.reset_index(name=\"orders\")"
   ]
  },
  {
   "cell_type": "code",
   "execution_count": 418,
   "id": "db539c1d-b224-4db2-ae16-19ada40ba4fb",
   "metadata": {},
   "outputs": [],
   "source": [
    "customers_orders_amount = customers_orders_amount.sort_values(by=\"orders\",ascending=False)"
   ]
  },
  {
   "cell_type": "code",
   "execution_count": 419,
   "id": "18aa3107-9aa6-4ded-ba5a-b6964638b216",
   "metadata": {},
   "outputs": [],
   "source": [
    "top_5_customers = customers_orders_amount.head(5)"
   ]
  },
  {
   "cell_type": "code",
   "execution_count": 420,
   "id": "bb4ab404-dfed-46a2-b3b7-8d0bff6be3c3",
   "metadata": {},
   "outputs": [],
   "source": [
    "top_5_customers = top_5_customers.merge(customers_df_copy, on=\"id\")"
   ]
  },
  {
   "cell_type": "code",
   "execution_count": 421,
   "id": "91499d8c-9968-43b2-b527-d5f0578e9350",
   "metadata": {},
   "outputs": [
    {
     "data": {
      "text/html": [
       "<div>\n",
       "<style scoped>\n",
       "    .dataframe tbody tr th:only-of-type {\n",
       "        vertical-align: middle;\n",
       "    }\n",
       "\n",
       "    .dataframe tbody tr th {\n",
       "        vertical-align: top;\n",
       "    }\n",
       "\n",
       "    .dataframe thead th {\n",
       "        text-align: right;\n",
       "    }\n",
       "</style>\n",
       "<table border=\"1\" class=\"dataframe\">\n",
       "  <thead>\n",
       "    <tr style=\"text-align: right;\">\n",
       "      <th></th>\n",
       "      <th>id</th>\n",
       "      <th>orders</th>\n",
       "      <th>first_name</th>\n",
       "      <th>last_name</th>\n",
       "      <th>gender</th>\n",
       "      <th>age</th>\n",
       "      <th>nationallity</th>\n",
       "      <th>joining_date</th>\n",
       "      <th>phone_number</th>\n",
       "      <th>email</th>\n",
       "    </tr>\n",
       "  </thead>\n",
       "  <tbody>\n",
       "    <tr>\n",
       "      <th>0</th>\n",
       "      <td>59</td>\n",
       "      <td>5</td>\n",
       "      <td>Merill</td>\n",
       "      <td>Lacroutz</td>\n",
       "      <td>Male</td>\n",
       "      <td>40.0</td>\n",
       "      <td>Isreal</td>\n",
       "      <td>2022-04-11</td>\n",
       "      <td>988-997-5910</td>\n",
       "      <td>mlacroutz1m@ft.com</td>\n",
       "    </tr>\n",
       "    <tr>\n",
       "      <th>1</th>\n",
       "      <td>138</td>\n",
       "      <td>5</td>\n",
       "      <td>Ellary</td>\n",
       "      <td>Ledner</td>\n",
       "      <td>Unknown</td>\n",
       "      <td>63.0</td>\n",
       "      <td>Peru</td>\n",
       "      <td>1900-01-01</td>\n",
       "      <td>343-500-4046</td>\n",
       "      <td>eledner3t@latimes.com</td>\n",
       "    </tr>\n",
       "    <tr>\n",
       "      <th>2</th>\n",
       "      <td>63</td>\n",
       "      <td>4</td>\n",
       "      <td>Dorine</td>\n",
       "      <td>Cauldfield</td>\n",
       "      <td>Female</td>\n",
       "      <td>44.0</td>\n",
       "      <td>Italy</td>\n",
       "      <td>2022-02-01</td>\n",
       "      <td>719-649-1327</td>\n",
       "      <td>dcauldfield1q@indiegogo.com</td>\n",
       "    </tr>\n",
       "    <tr>\n",
       "      <th>3</th>\n",
       "      <td>286</td>\n",
       "      <td>4</td>\n",
       "      <td>Rolfe</td>\n",
       "      <td>Gravenell</td>\n",
       "      <td>Male</td>\n",
       "      <td>27.0</td>\n",
       "      <td>Chile</td>\n",
       "      <td>2020-08-04</td>\n",
       "      <td>597-503-5502</td>\n",
       "      <td>rgravenell7x@hexun.com</td>\n",
       "    </tr>\n",
       "    <tr>\n",
       "      <th>4</th>\n",
       "      <td>204</td>\n",
       "      <td>4</td>\n",
       "      <td>Sharon</td>\n",
       "      <td>Wilby</td>\n",
       "      <td>Female</td>\n",
       "      <td>26.0</td>\n",
       "      <td>Peru</td>\n",
       "      <td>1900-01-01</td>\n",
       "      <td>235-951-1329</td>\n",
       "      <td>swilby5n@dailymail.co.uk</td>\n",
       "    </tr>\n",
       "  </tbody>\n",
       "</table>\n",
       "</div>"
      ],
      "text/plain": [
       "    id  orders first_name   last_name   gender   age nationallity  \\\n",
       "0   59       5     Merill    Lacroutz     Male  40.0       Isreal   \n",
       "1  138       5     Ellary      Ledner  Unknown  63.0         Peru   \n",
       "2   63       4     Dorine  Cauldfield   Female  44.0        Italy   \n",
       "3  286       4      Rolfe   Gravenell     Male  27.0        Chile   \n",
       "4  204       4     Sharon       Wilby   Female  26.0         Peru   \n",
       "\n",
       "  joining_date  phone_number                        email  \n",
       "0   2022-04-11  988-997-5910           mlacroutz1m@ft.com  \n",
       "1   1900-01-01  343-500-4046        eledner3t@latimes.com  \n",
       "2   2022-02-01  719-649-1327  dcauldfield1q@indiegogo.com  \n",
       "3   2020-08-04  597-503-5502       rgravenell7x@hexun.com  \n",
       "4   1900-01-01  235-951-1329     swilby5n@dailymail.co.uk  "
      ]
     },
     "execution_count": 421,
     "metadata": {},
     "output_type": "execute_result"
    }
   ],
   "source": [
    "top_5_customers"
   ]
  },
  {
   "cell_type": "code",
   "execution_count": 422,
   "id": "12dc57a9-752a-4772-aace-a7be9c6434ea",
   "metadata": {},
   "outputs": [],
   "source": [
    "top_5_customers = top_5_customers.drop([\"gender\",\"age\",\"nationallity\",\"phone_number\",\"email\"],axis=1)"
   ]
  },
  {
   "cell_type": "code",
   "execution_count": 423,
   "id": "4e39794d-be44-4181-a8e5-38f57c4c58b0",
   "metadata": {},
   "outputs": [
    {
     "data": {
      "text/html": [
       "<div>\n",
       "<style scoped>\n",
       "    .dataframe tbody tr th:only-of-type {\n",
       "        vertical-align: middle;\n",
       "    }\n",
       "\n",
       "    .dataframe tbody tr th {\n",
       "        vertical-align: top;\n",
       "    }\n",
       "\n",
       "    .dataframe thead th {\n",
       "        text-align: right;\n",
       "    }\n",
       "</style>\n",
       "<table border=\"1\" class=\"dataframe\">\n",
       "  <thead>\n",
       "    <tr style=\"text-align: right;\">\n",
       "      <th></th>\n",
       "      <th>id</th>\n",
       "      <th>orders</th>\n",
       "      <th>first_name</th>\n",
       "      <th>last_name</th>\n",
       "      <th>joining_date</th>\n",
       "    </tr>\n",
       "  </thead>\n",
       "  <tbody>\n",
       "    <tr>\n",
       "      <th>0</th>\n",
       "      <td>59</td>\n",
       "      <td>5</td>\n",
       "      <td>Merill</td>\n",
       "      <td>Lacroutz</td>\n",
       "      <td>2022-04-11</td>\n",
       "    </tr>\n",
       "    <tr>\n",
       "      <th>1</th>\n",
       "      <td>138</td>\n",
       "      <td>5</td>\n",
       "      <td>Ellary</td>\n",
       "      <td>Ledner</td>\n",
       "      <td>1900-01-01</td>\n",
       "    </tr>\n",
       "    <tr>\n",
       "      <th>2</th>\n",
       "      <td>63</td>\n",
       "      <td>4</td>\n",
       "      <td>Dorine</td>\n",
       "      <td>Cauldfield</td>\n",
       "      <td>2022-02-01</td>\n",
       "    </tr>\n",
       "    <tr>\n",
       "      <th>3</th>\n",
       "      <td>286</td>\n",
       "      <td>4</td>\n",
       "      <td>Rolfe</td>\n",
       "      <td>Gravenell</td>\n",
       "      <td>2020-08-04</td>\n",
       "    </tr>\n",
       "    <tr>\n",
       "      <th>4</th>\n",
       "      <td>204</td>\n",
       "      <td>4</td>\n",
       "      <td>Sharon</td>\n",
       "      <td>Wilby</td>\n",
       "      <td>1900-01-01</td>\n",
       "    </tr>\n",
       "  </tbody>\n",
       "</table>\n",
       "</div>"
      ],
      "text/plain": [
       "    id  orders first_name   last_name joining_date\n",
       "0   59       5     Merill    Lacroutz   2022-04-11\n",
       "1  138       5     Ellary      Ledner   1900-01-01\n",
       "2   63       4     Dorine  Cauldfield   2022-02-01\n",
       "3  286       4      Rolfe   Gravenell   2020-08-04\n",
       "4  204       4     Sharon       Wilby   1900-01-01"
      ]
     },
     "execution_count": 423,
     "metadata": {},
     "output_type": "execute_result"
    }
   ],
   "source": [
    "top_5_customers"
   ]
  },
  {
   "cell_type": "code",
   "execution_count": 424,
   "id": "7d19765b-135e-4c7a-94f1-6562b4c3e320",
   "metadata": {},
   "outputs": [],
   "source": [
    "##c."
   ]
  },
  {
   "cell_type": "code",
   "execution_count": 425,
   "id": "9fbff4ba-968c-448a-abb8-70dd6da4da3b",
   "metadata": {},
   "outputs": [],
   "source": [
    "payment_method_customers = orders_df_copy.groupby([\"payment_method\",\"customer_id\"]).size()"
   ]
  },
  {
   "cell_type": "code",
   "execution_count": 426,
   "id": "5610022a-e4f8-4051-a0d0-b199af891258",
   "metadata": {},
   "outputs": [
    {
     "data": {
      "text/plain": [
       "payment_method  customer_id\n",
       "CASH            4.0            1\n",
       "                5.0            1\n",
       "                9.0            2\n",
       "                11.0           1\n",
       "                18.0           1\n",
       "                              ..\n",
       "GIFT_CARD       486.0          1\n",
       "                491.0          2\n",
       "                492.0          1\n",
       "                494.0          1\n",
       "                497.0          1\n",
       "Length: 369, dtype: int64"
      ]
     },
     "execution_count": 426,
     "metadata": {},
     "output_type": "execute_result"
    }
   ],
   "source": [
    "payment_method_customers"
   ]
  },
  {
   "cell_type": "code",
   "execution_count": 427,
   "id": "9723cace-3251-4830-84c4-3c251dd82f46",
   "metadata": {},
   "outputs": [],
   "source": [
    "payment_method_customers = payment_method_customers.reset_index(name=\"orders\")"
   ]
  },
  {
   "cell_type": "code",
   "execution_count": 428,
   "id": "3a262472-b7de-4ee4-a8e1-542568f354cf",
   "metadata": {},
   "outputs": [],
   "source": [
    "payment_method_customers = payment_method_customers.groupby(\"payment_method\").size()"
   ]
  },
  {
   "cell_type": "code",
   "execution_count": 429,
   "id": "ca9b9d70-e436-4542-a236-1180475c913c",
   "metadata": {},
   "outputs": [],
   "source": [
    "payment_method_customers = payment_method_customers.reset_index(name=\"customers\")"
   ]
  },
  {
   "cell_type": "code",
   "execution_count": 430,
   "id": "5074dfeb-6a4d-4c9a-a432-acd7cd50d643",
   "metadata": {},
   "outputs": [
    {
     "data": {
      "text/html": [
       "<div>\n",
       "<style scoped>\n",
       "    .dataframe tbody tr th:only-of-type {\n",
       "        vertical-align: middle;\n",
       "    }\n",
       "\n",
       "    .dataframe tbody tr th {\n",
       "        vertical-align: top;\n",
       "    }\n",
       "\n",
       "    .dataframe thead th {\n",
       "        text-align: right;\n",
       "    }\n",
       "</style>\n",
       "<table border=\"1\" class=\"dataframe\">\n",
       "  <thead>\n",
       "    <tr style=\"text-align: right;\">\n",
       "      <th></th>\n",
       "      <th>payment_method</th>\n",
       "      <th>customers</th>\n",
       "    </tr>\n",
       "  </thead>\n",
       "  <tbody>\n",
       "    <tr>\n",
       "      <th>0</th>\n",
       "      <td>CASH</td>\n",
       "      <td>98</td>\n",
       "    </tr>\n",
       "    <tr>\n",
       "      <th>1</th>\n",
       "      <td>CHECK</td>\n",
       "      <td>97</td>\n",
       "    </tr>\n",
       "    <tr>\n",
       "      <th>2</th>\n",
       "      <td>CREDIT_CARD</td>\n",
       "      <td>88</td>\n",
       "    </tr>\n",
       "    <tr>\n",
       "      <th>3</th>\n",
       "      <td>GIFT_CARD</td>\n",
       "      <td>86</td>\n",
       "    </tr>\n",
       "  </tbody>\n",
       "</table>\n",
       "</div>"
      ],
      "text/plain": [
       "  payment_method  customers\n",
       "0           CASH         98\n",
       "1          CHECK         97\n",
       "2    CREDIT_CARD         88\n",
       "3      GIFT_CARD         86"
      ]
     },
     "execution_count": 430,
     "metadata": {},
     "output_type": "execute_result"
    }
   ],
   "source": [
    "payment_method_customers"
   ]
  },
  {
   "cell_type": "code",
   "execution_count": 431,
   "id": "bde9f255-7822-4511-8c10-900c4f2c9e56",
   "metadata": {},
   "outputs": [
    {
     "data": {
      "text/plain": [
       "([<matplotlib.patches.Wedge at 0x1eaf0648e10>,\n",
       "  <matplotlib.patches.Wedge at 0x1eaf0649090>,\n",
       "  <matplotlib.patches.Wedge at 0x1eaf0649310>,\n",
       "  <matplotlib.patches.Wedge at 0x1eaf0649590>],\n",
       " [Text(0.7388232414586936, 0.8149479847698682, 'CASH'),\n",
       "  Text(-0.8776529492057926, 0.6631178633926058, 'CHECK'),\n",
       "  Text(-0.6593760058822301, -0.8804676500966958, 'CREDIT_CARD'),\n",
       "  Text(0.8180855245039272, -0.735347587605436, 'GIFT_CARD')])"
      ]
     },
     "execution_count": 431,
     "metadata": {},
     "output_type": "execute_result"
    },
    {
     "data": {
      "image/png": "[encoded data removed]",
      "text/plain": [
       "<Figure size 640x480 with 1 Axes>"
      ]
     },
     "metadata": {},
     "output_type": "display_data"
    }
   ],
   "source": [
    "plt.pie(payment_method_customers[\"customers\"], labels=payment_method_customers[\"payment_method\"])"
   ]
  },
  {
   "cell_type": "code",
   "execution_count": 432,
   "id": "bd6e546d-5041-4a64-b7db-aa91eb3b9a06",
   "metadata": {},
   "outputs": [],
   "source": [
    "##4.Use all datasets and answer the following questions"
   ]
  },
  {
   "cell_type": "code",
   "execution_count": 433,
   "id": "635ddf84-cd0d-472a-9182-ea6539506c44",
   "metadata": {},
   "outputs": [],
   "source": [
    "##a."
   ]
  },
  {
   "cell_type": "code",
   "execution_count": 434,
   "id": "83b90f2d-d5e1-46b8-a1e8-19514728fccb",
   "metadata": {},
   "outputs": [],
   "source": [
    "orders_with_sum = order_item_df_copy.merge(items_df_copy, left_on=\"item_id\", right_on=\"id\", how=\"inner\")"
   ]
  },
  {
   "cell_type": "code",
   "execution_count": 435,
   "id": "09d0529f-7d16-4cfe-a4cc-7090bb548031",
   "metadata": {},
   "outputs": [],
   "source": [
    "orders_with_sum[\"order_total\"] = orders_with_sum[\"quantity\"]*orders_with_sum[\"item_price\"]"
   ]
  },
  {
   "cell_type": "code",
   "execution_count": 436,
   "id": "33e8e908-563c-43eb-bbe2-b764b0f7965d",
   "metadata": {},
   "outputs": [],
   "source": [
    "orders_with_sum = orders_with_sum.groupby(\"order_id\")[\"order_total\"].sum()"
   ]
  },
  {
   "cell_type": "code",
   "execution_count": 437,
   "id": "54d698d7-4af9-4734-968b-a2a1433220e6",
   "metadata": {},
   "outputs": [],
   "source": [
    "orders_with_sum = orders_with_sum.reset_index(name = \"order_total\")"
   ]
  },
  {
   "cell_type": "code",
   "execution_count": 438,
   "id": "b30a5bf0-9a9c-4946-96f9-76c0154a5514",
   "metadata": {},
   "outputs": [
    {
     "data": {
      "text/html": [
       "<div>\n",
       "<style scoped>\n",
       "    .dataframe tbody tr th:only-of-type {\n",
       "        vertical-align: middle;\n",
       "    }\n",
       "\n",
       "    .dataframe tbody tr th {\n",
       "        vertical-align: top;\n",
       "    }\n",
       "\n",
       "    .dataframe thead th {\n",
       "        text-align: right;\n",
       "    }\n",
       "</style>\n",
       "<table border=\"1\" class=\"dataframe\">\n",
       "  <thead>\n",
       "    <tr style=\"text-align: right;\">\n",
       "      <th></th>\n",
       "      <th>order_id</th>\n",
       "      <th>order_total</th>\n",
       "    </tr>\n",
       "  </thead>\n",
       "  <tbody>\n",
       "    <tr>\n",
       "      <th>0</th>\n",
       "      <td>1</td>\n",
       "      <td>8554.20</td>\n",
       "    </tr>\n",
       "    <tr>\n",
       "      <th>1</th>\n",
       "      <td>2</td>\n",
       "      <td>10148.58</td>\n",
       "    </tr>\n",
       "    <tr>\n",
       "      <th>2</th>\n",
       "      <td>3</td>\n",
       "      <td>6843.36</td>\n",
       "    </tr>\n",
       "    <tr>\n",
       "      <th>3</th>\n",
       "      <td>4</td>\n",
       "      <td>965.20</td>\n",
       "    </tr>\n",
       "    <tr>\n",
       "      <th>4</th>\n",
       "      <td>5</td>\n",
       "      <td>63944.94</td>\n",
       "    </tr>\n",
       "    <tr>\n",
       "      <th>...</th>\n",
       "      <td>...</td>\n",
       "      <td>...</td>\n",
       "    </tr>\n",
       "    <tr>\n",
       "      <th>428</th>\n",
       "      <td>593</td>\n",
       "      <td>2301.74</td>\n",
       "    </tr>\n",
       "    <tr>\n",
       "      <th>429</th>\n",
       "      <td>594</td>\n",
       "      <td>54186.82</td>\n",
       "    </tr>\n",
       "    <tr>\n",
       "      <th>430</th>\n",
       "      <td>596</td>\n",
       "      <td>5270.24</td>\n",
       "    </tr>\n",
       "    <tr>\n",
       "      <th>431</th>\n",
       "      <td>597</td>\n",
       "      <td>1710.84</td>\n",
       "    </tr>\n",
       "    <tr>\n",
       "      <th>432</th>\n",
       "      <td>599</td>\n",
       "      <td>29979.05</td>\n",
       "    </tr>\n",
       "  </tbody>\n",
       "</table>\n",
       "<p>433 rows × 2 columns</p>\n",
       "</div>"
      ],
      "text/plain": [
       "     order_id  order_total\n",
       "0           1      8554.20\n",
       "1           2     10148.58\n",
       "2           3      6843.36\n",
       "3           4       965.20\n",
       "4           5     63944.94\n",
       "..        ...          ...\n",
       "428       593      2301.74\n",
       "429       594     54186.82\n",
       "430       596      5270.24\n",
       "431       597      1710.84\n",
       "432       599     29979.05\n",
       "\n",
       "[433 rows x 2 columns]"
      ]
     },
     "execution_count": 438,
     "metadata": {},
     "output_type": "execute_result"
    }
   ],
   "source": [
    "orders_with_sum"
   ]
  },
  {
   "cell_type": "code",
   "execution_count": 439,
   "id": "1ff5be2b-aee6-479e-b2d1-9cb42230a20c",
   "metadata": {},
   "outputs": [],
   "source": [
    "orders_df_copy= orders_df_copy.merge(orders_with_sum, on=\"order_id\", how=\"inner\")"
   ]
  },
  {
   "cell_type": "code",
   "execution_count": 440,
   "id": "7a9a0924-bdc8-4af7-b893-2d4419b9ccae",
   "metadata": {},
   "outputs": [
    {
     "data": {
      "text/html": [
       "<div>\n",
       "<style scoped>\n",
       "    .dataframe tbody tr th:only-of-type {\n",
       "        vertical-align: middle;\n",
       "    }\n",
       "\n",
       "    .dataframe tbody tr th {\n",
       "        vertical-align: top;\n",
       "    }\n",
       "\n",
       "    .dataframe thead th {\n",
       "        text-align: right;\n",
       "    }\n",
       "</style>\n",
       "<table border=\"1\" class=\"dataframe\">\n",
       "  <thead>\n",
       "    <tr style=\"text-align: right;\">\n",
       "      <th></th>\n",
       "      <th>order_id</th>\n",
       "      <th>customer_id</th>\n",
       "      <th>delivery_address</th>\n",
       "      <th>delivery_days</th>\n",
       "      <th>order_date</th>\n",
       "      <th>payment_method</th>\n",
       "      <th>order_source</th>\n",
       "      <th>order_total</th>\n",
       "    </tr>\n",
       "  </thead>\n",
       "  <tbody>\n",
       "    <tr>\n",
       "      <th>0</th>\n",
       "      <td>1</td>\n",
       "      <td>477.0</td>\n",
       "      <td>576 Cordelia Place</td>\n",
       "      <td>2.0</td>\n",
       "      <td>2023-12-05</td>\n",
       "      <td>GIFT_CARD</td>\n",
       "      <td>WEBSITE</td>\n",
       "      <td>8554.20</td>\n",
       "    </tr>\n",
       "    <tr>\n",
       "      <th>1</th>\n",
       "      <td>2</td>\n",
       "      <td>93.0</td>\n",
       "      <td>4664 6th Drive</td>\n",
       "      <td>4.0</td>\n",
       "      <td>2023-08-17</td>\n",
       "      <td>CASH</td>\n",
       "      <td>STORE</td>\n",
       "      <td>10148.58</td>\n",
       "    </tr>\n",
       "    <tr>\n",
       "      <th>2</th>\n",
       "      <td>3</td>\n",
       "      <td>474.0</td>\n",
       "      <td>8766 4th Point</td>\n",
       "      <td>4.0</td>\n",
       "      <td>2023-02-25</td>\n",
       "      <td>CHECK</td>\n",
       "      <td>STORE</td>\n",
       "      <td>6843.36</td>\n",
       "    </tr>\n",
       "    <tr>\n",
       "      <th>3</th>\n",
       "      <td>4</td>\n",
       "      <td>333.0</td>\n",
       "      <td>31 Bonner Way</td>\n",
       "      <td>3.0</td>\n",
       "      <td>2023-02-04</td>\n",
       "      <td>CASH</td>\n",
       "      <td>STORE</td>\n",
       "      <td>965.20</td>\n",
       "    </tr>\n",
       "    <tr>\n",
       "      <th>4</th>\n",
       "      <td>5</td>\n",
       "      <td>436.0</td>\n",
       "      <td>20352 Shelley Way</td>\n",
       "      <td>5.0</td>\n",
       "      <td>2023-06-01</td>\n",
       "      <td>CASH</td>\n",
       "      <td>STORE</td>\n",
       "      <td>63944.94</td>\n",
       "    </tr>\n",
       "    <tr>\n",
       "      <th>...</th>\n",
       "      <td>...</td>\n",
       "      <td>...</td>\n",
       "      <td>...</td>\n",
       "      <td>...</td>\n",
       "      <td>...</td>\n",
       "      <td>...</td>\n",
       "      <td>...</td>\n",
       "      <td>...</td>\n",
       "    </tr>\n",
       "    <tr>\n",
       "      <th>398</th>\n",
       "      <td>593</td>\n",
       "      <td>292.0</td>\n",
       "      <td>90001 Kedzie Point</td>\n",
       "      <td>4.0</td>\n",
       "      <td>2023-09-16</td>\n",
       "      <td>CREDIT_CARD</td>\n",
       "      <td>WEBSITE</td>\n",
       "      <td>2301.74</td>\n",
       "    </tr>\n",
       "    <tr>\n",
       "      <th>399</th>\n",
       "      <td>594</td>\n",
       "      <td>480.0</td>\n",
       "      <td>242 Brown Avenue</td>\n",
       "      <td>6.0</td>\n",
       "      <td>2023-02-18</td>\n",
       "      <td>GIFT_CARD</td>\n",
       "      <td>STORE</td>\n",
       "      <td>54186.82</td>\n",
       "    </tr>\n",
       "    <tr>\n",
       "      <th>400</th>\n",
       "      <td>596</td>\n",
       "      <td>110.0</td>\n",
       "      <td>26 Hudson Lane</td>\n",
       "      <td>5.0</td>\n",
       "      <td>2023-10-30</td>\n",
       "      <td>CREDIT_CARD</td>\n",
       "      <td>WEBSITE</td>\n",
       "      <td>5270.24</td>\n",
       "    </tr>\n",
       "    <tr>\n",
       "      <th>401</th>\n",
       "      <td>597</td>\n",
       "      <td>209.0</td>\n",
       "      <td>37392 Sullivan Park</td>\n",
       "      <td>4.0</td>\n",
       "      <td>2023-08-23</td>\n",
       "      <td>CREDIT_CARD</td>\n",
       "      <td>WEBSITE</td>\n",
       "      <td>1710.84</td>\n",
       "    </tr>\n",
       "    <tr>\n",
       "      <th>402</th>\n",
       "      <td>599</td>\n",
       "      <td>72.0</td>\n",
       "      <td>2 Nancy Crossing</td>\n",
       "      <td>4.0</td>\n",
       "      <td>2023-02-09</td>\n",
       "      <td>CASH</td>\n",
       "      <td>STORE</td>\n",
       "      <td>29979.05</td>\n",
       "    </tr>\n",
       "  </tbody>\n",
       "</table>\n",
       "<p>403 rows × 8 columns</p>\n",
       "</div>"
      ],
      "text/plain": [
       "     order_id  customer_id     delivery_address  delivery_days  order_date  \\\n",
       "0           1        477.0   576 Cordelia Place            2.0  2023-12-05   \n",
       "1           2         93.0       4664 6th Drive            4.0  2023-08-17   \n",
       "2           3        474.0       8766 4th Point            4.0  2023-02-25   \n",
       "3           4        333.0        31 Bonner Way            3.0  2023-02-04   \n",
       "4           5        436.0    20352 Shelley Way            5.0  2023-06-01   \n",
       "..        ...          ...                  ...            ...         ...   \n",
       "398       593        292.0   90001 Kedzie Point            4.0  2023-09-16   \n",
       "399       594        480.0     242 Brown Avenue            6.0  2023-02-18   \n",
       "400       596        110.0       26 Hudson Lane            5.0  2023-10-30   \n",
       "401       597        209.0  37392 Sullivan Park            4.0  2023-08-23   \n",
       "402       599         72.0     2 Nancy Crossing            4.0  2023-02-09   \n",
       "\n",
       "    payment_method order_source  order_total  \n",
       "0        GIFT_CARD      WEBSITE      8554.20  \n",
       "1             CASH        STORE     10148.58  \n",
       "2            CHECK        STORE      6843.36  \n",
       "3             CASH        STORE       965.20  \n",
       "4             CASH        STORE     63944.94  \n",
       "..             ...          ...          ...  \n",
       "398    CREDIT_CARD      WEBSITE      2301.74  \n",
       "399      GIFT_CARD        STORE     54186.82  \n",
       "400    CREDIT_CARD      WEBSITE      5270.24  \n",
       "401    CREDIT_CARD      WEBSITE      1710.84  \n",
       "402           CASH        STORE     29979.05  \n",
       "\n",
       "[403 rows x 8 columns]"
      ]
     },
     "execution_count": 440,
     "metadata": {},
     "output_type": "execute_result"
    }
   ],
   "source": [
    "orders_df_copy"
   ]
  },
  {
   "cell_type": "code",
   "execution_count": 441,
   "id": "d9788e10-6311-436e-8023-0e89412778d3",
   "metadata": {},
   "outputs": [],
   "source": [
    "##b."
   ]
  },
  {
   "cell_type": "code",
   "execution_count": 442,
   "id": "349ccb37-0bf3-4322-be30-6a05489bf4cd",
   "metadata": {},
   "outputs": [],
   "source": [
    "max_order_total = round(orders_df_copy[\"order_total\"].max())"
   ]
  },
  {
   "cell_type": "code",
   "execution_count": 443,
   "id": "2077555d-d3bf-4ce9-a822-a8b1e91cb381",
   "metadata": {},
   "outputs": [],
   "source": [
    "min_order_total = round(orders_df_copy[\"order_total\"].min())"
   ]
  },
  {
   "cell_type": "code",
   "execution_count": 444,
   "id": "69dceca2-158f-4757-8890-e5b27f8871cc",
   "metadata": {},
   "outputs": [],
   "source": [
    "mean_order_total = round(orders_df_copy[\"order_total\"].mean())"
   ]
  },
  {
   "cell_type": "code",
   "execution_count": 445,
   "id": "348e96c1-1ad2-4891-979d-8abee0682cab",
   "metadata": {},
   "outputs": [
    {
     "name": "stdout",
     "output_type": "stream",
     "text": [
      "The max order total is 69582, the min order total is 242 and the mean order total is 14089\n"
     ]
    }
   ],
   "source": [
    "print(f\"The max order total is {max_order_total}, the min order total is {min_order_total} and the mean order total is {mean_order_total}\")"
   ]
  },
  {
   "cell_type": "code",
   "execution_count": 446,
   "id": "b8cf94f8-db49-4dba-aeda-797cd286aa78",
   "metadata": {},
   "outputs": [],
   "source": [
    "##c."
   ]
  },
  {
   "cell_type": "code",
   "execution_count": 447,
   "id": "1508d041-c509-4bc8-9913-ba6b6b869fc7",
   "metadata": {},
   "outputs": [],
   "source": [
    "order_delivery_time = orders_df_copy.merge(order_item_df_copy, on=\"order_id\", how=\"inner\")"
   ]
  },
  {
   "cell_type": "code",
   "execution_count": 448,
   "id": "86366a14-8d27-4025-98f2-041cb2c18d16",
   "metadata": {},
   "outputs": [],
   "source": [
    "order_delivery_time_no_duplicates = order_delivery_time.groupby([\"order_id\",\"delivery_days\"])[\"quantity\"].sum()"
   ]
  },
  {
   "cell_type": "code",
   "execution_count": 449,
   "id": "df193eb4-a867-42b5-9418-c16af55b859d",
   "metadata": {},
   "outputs": [],
   "source": [
    "order_delivery_time_no_duplicates = order_delivery_time_no_duplicates.reset_index(name=\"quantity\")"
   ]
  },
  {
   "cell_type": "code",
   "execution_count": 450,
   "id": "ae453d4b-f2c6-4cd9-9206-103b3035f437",
   "metadata": {},
   "outputs": [
    {
     "data": {
      "text/plain": [
       "Text(0, 0.5, 'Items in order')"
      ]
     },
     "execution_count": 450,
     "metadata": {},
     "output_type": "execute_result"
    },
    {
     "data": {
      "image/png": "[encoded data removed]",
      "text/plain": [
       "<Figure size 640x480 with 1 Axes>"
      ]
     },
     "metadata": {},
     "output_type": "display_data"
    }
   ],
   "source": [
    "plt.scatter(order_delivery_time_no_duplicates[\"delivery_days\"],order_delivery_time_no_duplicates[\"quantity\"])\n",
    "plt.title(\"Items in order v delivery time\")\n",
    "plt.xlabel(\"Delivery days\")\n",
    "plt.ylabel(\"Items in order\")"
   ]
  },
  {
   "cell_type": "code",
   "execution_count": 451,
   "id": "b08f5e18-3625-43c4-bcff-07e977580e45",
   "metadata": {},
   "outputs": [
    {
     "name": "stdout",
     "output_type": "stream",
     "text": [
      "according to the scatter chart, there is no clear correlation between the number of items in an order and the amount of time it takes to deliver\n"
     ]
    }
   ],
   "source": [
    "print(\"according to the scatter chart, there is no clear correlation between the number of items in an order and the amount of time it takes to deliver\")"
   ]
  },
  {
   "cell_type": "code",
   "execution_count": 452,
   "id": "2f4f2133-a4b0-46d1-81b5-f85fea38bad9",
   "metadata": {},
   "outputs": [],
   "source": [
    "##d."
   ]
  },
  {
   "cell_type": "code",
   "execution_count": 453,
   "id": "93afb9bb-37dc-4f29-974e-e5144542d26f",
   "metadata": {},
   "outputs": [],
   "source": [
    "total_customers = customers_df_copy[\"id\"].count()"
   ]
  },
  {
   "cell_type": "code",
   "execution_count": 454,
   "id": "16f3e42c-5bef-4a51-afb1-dad1faaf3279",
   "metadata": {},
   "outputs": [],
   "source": [
    "customers_who_ordered = customers_df_copy[customers_df_copy[\"id\"].isin(orders_df_copy[\"customer_id\"])][\"id\"].count()"
   ]
  },
  {
   "cell_type": "code",
   "execution_count": 455,
   "id": "e11cd067-2f8a-4510-8596-8ce167693ac1",
   "metadata": {},
   "outputs": [],
   "source": [
    "customers_never_ordered = total_customers - customers_who_ordered"
   ]
  },
  {
   "cell_type": "code",
   "execution_count": 456,
   "id": "d117d85a-dc3d-480e-bcfe-f474037b6119",
   "metadata": {},
   "outputs": [
    {
     "name": "stdout",
     "output_type": "stream",
     "text": [
      "The amount of customers who never placed an order is 232\n"
     ]
    }
   ],
   "source": [
    "print(f\"The amount of customers who never placed an order is {customers_never_ordered}\")"
   ]
  },
  {
   "cell_type": "code",
   "execution_count": 457,
   "id": "ed501dcf-daf8-4de5-80ec-d96d97e05341",
   "metadata": {},
   "outputs": [],
   "source": [
    "##e."
   ]
  },
  {
   "cell_type": "code",
   "execution_count": 458,
   "id": "28eb0a19-2119-42ee-bd49-291959e815f0",
   "metadata": {},
   "outputs": [],
   "source": [
    "items_amount_ordered = order_item_df_copy.groupby(\"item_id\")[\"quantity\"].sum()"
   ]
  },
  {
   "cell_type": "code",
   "execution_count": 459,
   "id": "c32e8bf2-4da1-4017-b89b-ffb72fb5a267",
   "metadata": {},
   "outputs": [],
   "source": [
    "items_amount_ordered = items_amount_ordered.reset_index()"
   ]
  },
  {
   "cell_type": "code",
   "execution_count": 460,
   "id": "4a96bcb9-f7ed-4c63-a0f2-d6efae006bd0",
   "metadata": {},
   "outputs": [],
   "source": [
    "items_amount_ordered = items_amount_ordered.sort_values(by=\"quantity\")"
   ]
  },
  {
   "cell_type": "code",
   "execution_count": 461,
   "id": "6c546e00-1cf1-435f-8567-14d4bfb9b5ea",
   "metadata": {},
   "outputs": [],
   "source": [
    "items_amount_ordered = items_amount_ordered.head(5)"
   ]
  },
  {
   "cell_type": "code",
   "execution_count": 462,
   "id": "8f93f641-6ce4-45e8-aa15-f349c03c77ae",
   "metadata": {},
   "outputs": [],
   "source": [
    "items_amount_ordered = items_amount_ordered.merge(items_df_copy, left_on=\"item_id\",right_on=\"id\",how=\"inner\")"
   ]
  },
  {
   "cell_type": "code",
   "execution_count": 463,
   "id": "ef1ad85c-c6d5-4915-859a-84c8902d97bf",
   "metadata": {},
   "outputs": [],
   "source": [
    "items_amount_ordered.drop([\"id\",\"item_category\",\"item_price\",\"stock_quantity\",\"item_brand\",\"item_availability\"], axis=1, inplace=True)"
   ]
  },
  {
   "cell_type": "code",
   "execution_count": 464,
   "id": "411fa186-bfd2-4ad3-a066-5b93d88cb535",
   "metadata": {},
   "outputs": [
    {
     "data": {
      "text/html": [
       "<div>\n",
       "<style scoped>\n",
       "    .dataframe tbody tr th:only-of-type {\n",
       "        vertical-align: middle;\n",
       "    }\n",
       "\n",
       "    .dataframe tbody tr th {\n",
       "        vertical-align: top;\n",
       "    }\n",
       "\n",
       "    .dataframe thead th {\n",
       "        text-align: right;\n",
       "    }\n",
       "</style>\n",
       "<table border=\"1\" class=\"dataframe\">\n",
       "  <thead>\n",
       "    <tr style=\"text-align: right;\">\n",
       "      <th></th>\n",
       "      <th>item_id</th>\n",
       "      <th>quantity</th>\n",
       "      <th>item_name</th>\n",
       "    </tr>\n",
       "  </thead>\n",
       "  <tbody>\n",
       "    <tr>\n",
       "      <th>0</th>\n",
       "      <td>29.0</td>\n",
       "      <td>25</td>\n",
       "      <td>Webcam</td>\n",
       "    </tr>\n",
       "    <tr>\n",
       "      <th>1</th>\n",
       "      <td>33.0</td>\n",
       "      <td>27</td>\n",
       "      <td>Surge Protector</td>\n",
       "    </tr>\n",
       "    <tr>\n",
       "      <th>2</th>\n",
       "      <td>21.0</td>\n",
       "      <td>33</td>\n",
       "      <td>External Hard Drive</td>\n",
       "    </tr>\n",
       "    <tr>\n",
       "      <th>3</th>\n",
       "      <td>28.0</td>\n",
       "      <td>34</td>\n",
       "      <td>CCTV Camera</td>\n",
       "    </tr>\n",
       "    <tr>\n",
       "      <th>4</th>\n",
       "      <td>6.0</td>\n",
       "      <td>37</td>\n",
       "      <td>Printer</td>\n",
       "    </tr>\n",
       "  </tbody>\n",
       "</table>\n",
       "</div>"
      ],
      "text/plain": [
       "   item_id  quantity            item_name\n",
       "0     29.0        25               Webcam\n",
       "1     33.0        27      Surge Protector\n",
       "2     21.0        33  External Hard Drive\n",
       "3     28.0        34          CCTV Camera\n",
       "4      6.0        37              Printer"
      ]
     },
     "execution_count": 464,
     "metadata": {},
     "output_type": "execute_result"
    }
   ],
   "source": [
    "items_amount_ordered"
   ]
  },
  {
   "cell_type": "code",
   "execution_count": 465,
   "id": "47310839-8f8c-4745-a3c0-6f05ba95bef9",
   "metadata": {},
   "outputs": [],
   "source": [
    "##Bonus"
   ]
  },
  {
   "cell_type": "code",
   "execution_count": 466,
   "id": "0999d0b9-1be6-49c8-b2ef-8198a6401631",
   "metadata": {},
   "outputs": [],
   "source": [
    "##1"
   ]
  },
  {
   "cell_type": "code",
   "execution_count": 467,
   "id": "f11b3160-0607-4d84-b5e4-0105ba8dbb26",
   "metadata": {},
   "outputs": [
    {
     "data": {
      "text/html": [
       "<div>\n",
       "<style scoped>\n",
       "    .dataframe tbody tr th:only-of-type {\n",
       "        vertical-align: middle;\n",
       "    }\n",
       "\n",
       "    .dataframe tbody tr th {\n",
       "        vertical-align: top;\n",
       "    }\n",
       "\n",
       "    .dataframe thead th {\n",
       "        text-align: right;\n",
       "    }\n",
       "</style>\n",
       "<table border=\"1\" class=\"dataframe\">\n",
       "  <thead>\n",
       "    <tr style=\"text-align: right;\">\n",
       "      <th></th>\n",
       "      <th>order_id</th>\n",
       "      <th>customer_id</th>\n",
       "      <th>delivery_address</th>\n",
       "      <th>delivery_days</th>\n",
       "      <th>order_date</th>\n",
       "      <th>payment_method</th>\n",
       "      <th>order_source</th>\n",
       "      <th>order_total</th>\n",
       "    </tr>\n",
       "  </thead>\n",
       "  <tbody>\n",
       "    <tr>\n",
       "      <th>0</th>\n",
       "      <td>1</td>\n",
       "      <td>477.0</td>\n",
       "      <td>576 Cordelia Place</td>\n",
       "      <td>2.0</td>\n",
       "      <td>2023-12-05</td>\n",
       "      <td>GIFT_CARD</td>\n",
       "      <td>WEBSITE</td>\n",
       "      <td>8554.20</td>\n",
       "    </tr>\n",
       "    <tr>\n",
       "      <th>1</th>\n",
       "      <td>2</td>\n",
       "      <td>93.0</td>\n",
       "      <td>4664 6th Drive</td>\n",
       "      <td>4.0</td>\n",
       "      <td>2023-08-17</td>\n",
       "      <td>CASH</td>\n",
       "      <td>STORE</td>\n",
       "      <td>10148.58</td>\n",
       "    </tr>\n",
       "    <tr>\n",
       "      <th>2</th>\n",
       "      <td>3</td>\n",
       "      <td>474.0</td>\n",
       "      <td>8766 4th Point</td>\n",
       "      <td>4.0</td>\n",
       "      <td>2023-02-25</td>\n",
       "      <td>CHECK</td>\n",
       "      <td>STORE</td>\n",
       "      <td>6843.36</td>\n",
       "    </tr>\n",
       "    <tr>\n",
       "      <th>3</th>\n",
       "      <td>4</td>\n",
       "      <td>333.0</td>\n",
       "      <td>31 Bonner Way</td>\n",
       "      <td>3.0</td>\n",
       "      <td>2023-02-04</td>\n",
       "      <td>CASH</td>\n",
       "      <td>STORE</td>\n",
       "      <td>965.20</td>\n",
       "    </tr>\n",
       "    <tr>\n",
       "      <th>4</th>\n",
       "      <td>5</td>\n",
       "      <td>436.0</td>\n",
       "      <td>20352 Shelley Way</td>\n",
       "      <td>5.0</td>\n",
       "      <td>2023-06-01</td>\n",
       "      <td>CASH</td>\n",
       "      <td>STORE</td>\n",
       "      <td>63944.94</td>\n",
       "    </tr>\n",
       "    <tr>\n",
       "      <th>...</th>\n",
       "      <td>...</td>\n",
       "      <td>...</td>\n",
       "      <td>...</td>\n",
       "      <td>...</td>\n",
       "      <td>...</td>\n",
       "      <td>...</td>\n",
       "      <td>...</td>\n",
       "      <td>...</td>\n",
       "    </tr>\n",
       "    <tr>\n",
       "      <th>398</th>\n",
       "      <td>593</td>\n",
       "      <td>292.0</td>\n",
       "      <td>90001 Kedzie Point</td>\n",
       "      <td>4.0</td>\n",
       "      <td>2023-09-16</td>\n",
       "      <td>CREDIT_CARD</td>\n",
       "      <td>WEBSITE</td>\n",
       "      <td>2301.74</td>\n",
       "    </tr>\n",
       "    <tr>\n",
       "      <th>399</th>\n",
       "      <td>594</td>\n",
       "      <td>480.0</td>\n",
       "      <td>242 Brown Avenue</td>\n",
       "      <td>6.0</td>\n",
       "      <td>2023-02-18</td>\n",
       "      <td>GIFT_CARD</td>\n",
       "      <td>STORE</td>\n",
       "      <td>54186.82</td>\n",
       "    </tr>\n",
       "    <tr>\n",
       "      <th>400</th>\n",
       "      <td>596</td>\n",
       "      <td>110.0</td>\n",
       "      <td>26 Hudson Lane</td>\n",
       "      <td>5.0</td>\n",
       "      <td>2023-10-30</td>\n",
       "      <td>CREDIT_CARD</td>\n",
       "      <td>WEBSITE</td>\n",
       "      <td>5270.24</td>\n",
       "    </tr>\n",
       "    <tr>\n",
       "      <th>401</th>\n",
       "      <td>597</td>\n",
       "      <td>209.0</td>\n",
       "      <td>37392 Sullivan Park</td>\n",
       "      <td>4.0</td>\n",
       "      <td>2023-08-23</td>\n",
       "      <td>CREDIT_CARD</td>\n",
       "      <td>WEBSITE</td>\n",
       "      <td>1710.84</td>\n",
       "    </tr>\n",
       "    <tr>\n",
       "      <th>402</th>\n",
       "      <td>599</td>\n",
       "      <td>72.0</td>\n",
       "      <td>2 Nancy Crossing</td>\n",
       "      <td>4.0</td>\n",
       "      <td>2023-02-09</td>\n",
       "      <td>CASH</td>\n",
       "      <td>STORE</td>\n",
       "      <td>29979.05</td>\n",
       "    </tr>\n",
       "  </tbody>\n",
       "</table>\n",
       "<p>403 rows × 8 columns</p>\n",
       "</div>"
      ],
      "text/plain": [
       "     order_id  customer_id     delivery_address  delivery_days  order_date  \\\n",
       "0           1        477.0   576 Cordelia Place            2.0  2023-12-05   \n",
       "1           2         93.0       4664 6th Drive            4.0  2023-08-17   \n",
       "2           3        474.0       8766 4th Point            4.0  2023-02-25   \n",
       "3           4        333.0        31 Bonner Way            3.0  2023-02-04   \n",
       "4           5        436.0    20352 Shelley Way            5.0  2023-06-01   \n",
       "..        ...          ...                  ...            ...         ...   \n",
       "398       593        292.0   90001 Kedzie Point            4.0  2023-09-16   \n",
       "399       594        480.0     242 Brown Avenue            6.0  2023-02-18   \n",
       "400       596        110.0       26 Hudson Lane            5.0  2023-10-30   \n",
       "401       597        209.0  37392 Sullivan Park            4.0  2023-08-23   \n",
       "402       599         72.0     2 Nancy Crossing            4.0  2023-02-09   \n",
       "\n",
       "    payment_method order_source  order_total  \n",
       "0        GIFT_CARD      WEBSITE      8554.20  \n",
       "1             CASH        STORE     10148.58  \n",
       "2            CHECK        STORE      6843.36  \n",
       "3             CASH        STORE       965.20  \n",
       "4             CASH        STORE     63944.94  \n",
       "..             ...          ...          ...  \n",
       "398    CREDIT_CARD      WEBSITE      2301.74  \n",
       "399      GIFT_CARD        STORE     54186.82  \n",
       "400    CREDIT_CARD      WEBSITE      5270.24  \n",
       "401    CREDIT_CARD      WEBSITE      1710.84  \n",
       "402           CASH        STORE     29979.05  \n",
       "\n",
       "[403 rows x 8 columns]"
      ]
     },
     "execution_count": 467,
     "metadata": {},
     "output_type": "execute_result"
    }
   ],
   "source": [
    "orders_df_copy"
   ]
  },
  {
   "cell_type": "code",
   "execution_count": 468,
   "id": "77214e3c-036f-4aae-8fa1-c70bc40ecfdf",
   "metadata": {},
   "outputs": [],
   "source": [
    "orders_df_copy[\"order_date\"] = pd.to_datetime(orders_df_copy[\"order_date\"])"
   ]
  },
  {
   "cell_type": "code",
   "execution_count": 469,
   "id": "8687adf1-e7e2-4aa3-a0b1-319695acfd3f",
   "metadata": {},
   "outputs": [],
   "source": [
    "orders_by_source = orders_df_copy.groupby([\"order_date\",\"order_source\"]).size()"
   ]
  },
  {
   "cell_type": "code",
   "execution_count": 470,
   "id": "dea350ee-1992-44c1-9c2b-36762a8210d3",
   "metadata": {},
   "outputs": [],
   "source": [
    "orders_by_source = orders_by_source.reset_index(name = \"orders\")"
   ]
  },
  {
   "cell_type": "code",
   "execution_count": 471,
   "id": "ca939c6b-3163-418e-bde5-71041a41ff05",
   "metadata": {},
   "outputs": [],
   "source": [
    "web_orders = orders_by_source[orders_by_source[\"order_source\"]==\"WEBSITE\"]"
   ]
  },
  {
   "cell_type": "code",
   "execution_count": 472,
   "id": "92290f0d-d74e-414c-a7a2-a68f1b17f8cd",
   "metadata": {},
   "outputs": [
    {
     "data": {
      "text/html": [
       "<div>\n",
       "<style scoped>\n",
       "    .dataframe tbody tr th:only-of-type {\n",
       "        vertical-align: middle;\n",
       "    }\n",
       "\n",
       "    .dataframe tbody tr th {\n",
       "        vertical-align: top;\n",
       "    }\n",
       "\n",
       "    .dataframe thead th {\n",
       "        text-align: right;\n",
       "    }\n",
       "</style>\n",
       "<table border=\"1\" class=\"dataframe\">\n",
       "  <thead>\n",
       "    <tr style=\"text-align: right;\">\n",
       "      <th></th>\n",
       "      <th>order_date</th>\n",
       "      <th>order_source</th>\n",
       "      <th>orders</th>\n",
       "    </tr>\n",
       "  </thead>\n",
       "  <tbody>\n",
       "    <tr>\n",
       "      <th>1</th>\n",
       "      <td>2023-01-02</td>\n",
       "      <td>WEBSITE</td>\n",
       "      <td>4</td>\n",
       "    </tr>\n",
       "    <tr>\n",
       "      <th>3</th>\n",
       "      <td>2023-01-03</td>\n",
       "      <td>WEBSITE</td>\n",
       "      <td>1</td>\n",
       "    </tr>\n",
       "    <tr>\n",
       "      <th>4</th>\n",
       "      <td>2023-01-04</td>\n",
       "      <td>WEBSITE</td>\n",
       "      <td>1</td>\n",
       "    </tr>\n",
       "    <tr>\n",
       "      <th>5</th>\n",
       "      <td>2023-01-05</td>\n",
       "      <td>WEBSITE</td>\n",
       "      <td>2</td>\n",
       "    </tr>\n",
       "    <tr>\n",
       "      <th>7</th>\n",
       "      <td>2023-01-06</td>\n",
       "      <td>WEBSITE</td>\n",
       "      <td>1</td>\n",
       "    </tr>\n",
       "    <tr>\n",
       "      <th>...</th>\n",
       "      <td>...</td>\n",
       "      <td>...</td>\n",
       "      <td>...</td>\n",
       "    </tr>\n",
       "    <tr>\n",
       "      <th>303</th>\n",
       "      <td>2023-12-25</td>\n",
       "      <td>WEBSITE</td>\n",
       "      <td>1</td>\n",
       "    </tr>\n",
       "    <tr>\n",
       "      <th>305</th>\n",
       "      <td>2023-12-26</td>\n",
       "      <td>WEBSITE</td>\n",
       "      <td>1</td>\n",
       "    </tr>\n",
       "    <tr>\n",
       "      <th>306</th>\n",
       "      <td>2023-12-27</td>\n",
       "      <td>WEBSITE</td>\n",
       "      <td>2</td>\n",
       "    </tr>\n",
       "    <tr>\n",
       "      <th>307</th>\n",
       "      <td>2023-12-28</td>\n",
       "      <td>WEBSITE</td>\n",
       "      <td>1</td>\n",
       "    </tr>\n",
       "    <tr>\n",
       "      <th>308</th>\n",
       "      <td>2023-12-30</td>\n",
       "      <td>WEBSITE</td>\n",
       "      <td>1</td>\n",
       "    </tr>\n",
       "  </tbody>\n",
       "</table>\n",
       "<p>167 rows × 3 columns</p>\n",
       "</div>"
      ],
      "text/plain": [
       "    order_date order_source  orders\n",
       "1   2023-01-02      WEBSITE       4\n",
       "3   2023-01-03      WEBSITE       1\n",
       "4   2023-01-04      WEBSITE       1\n",
       "5   2023-01-05      WEBSITE       2\n",
       "7   2023-01-06      WEBSITE       1\n",
       "..         ...          ...     ...\n",
       "303 2023-12-25      WEBSITE       1\n",
       "305 2023-12-26      WEBSITE       1\n",
       "306 2023-12-27      WEBSITE       2\n",
       "307 2023-12-28      WEBSITE       1\n",
       "308 2023-12-30      WEBSITE       1\n",
       "\n",
       "[167 rows x 3 columns]"
      ]
     },
     "execution_count": 472,
     "metadata": {},
     "output_type": "execute_result"
    }
   ],
   "source": [
    "web_orders"
   ]
  },
  {
   "cell_type": "code",
   "execution_count": 473,
   "id": "cb3068ed-340f-4b73-a53c-dccd19cab8e2",
   "metadata": {},
   "outputs": [],
   "source": [
    "store_orders = orders_by_source[orders_by_source[\"order_source\"]==\"STORE\"]"
   ]
  },
  {
   "cell_type": "code",
   "execution_count": 474,
   "id": "fa7a42b7-d58d-4af9-95fd-b64e185bea65",
   "metadata": {},
   "outputs": [
    {
     "data": {
      "text/html": [
       "<div>\n",
       "<style scoped>\n",
       "    .dataframe tbody tr th:only-of-type {\n",
       "        vertical-align: middle;\n",
       "    }\n",
       "\n",
       "    .dataframe tbody tr th {\n",
       "        vertical-align: top;\n",
       "    }\n",
       "\n",
       "    .dataframe thead th {\n",
       "        text-align: right;\n",
       "    }\n",
       "</style>\n",
       "<table border=\"1\" class=\"dataframe\">\n",
       "  <thead>\n",
       "    <tr style=\"text-align: right;\">\n",
       "      <th></th>\n",
       "      <th>order_date</th>\n",
       "      <th>order_source</th>\n",
       "      <th>orders</th>\n",
       "    </tr>\n",
       "  </thead>\n",
       "  <tbody>\n",
       "    <tr>\n",
       "      <th>0</th>\n",
       "      <td>2023-01-01</td>\n",
       "      <td>STORE</td>\n",
       "      <td>1</td>\n",
       "    </tr>\n",
       "    <tr>\n",
       "      <th>2</th>\n",
       "      <td>2023-01-03</td>\n",
       "      <td>STORE</td>\n",
       "      <td>1</td>\n",
       "    </tr>\n",
       "    <tr>\n",
       "      <th>6</th>\n",
       "      <td>2023-01-06</td>\n",
       "      <td>STORE</td>\n",
       "      <td>1</td>\n",
       "    </tr>\n",
       "    <tr>\n",
       "      <th>9</th>\n",
       "      <td>2023-01-09</td>\n",
       "      <td>STORE</td>\n",
       "      <td>1</td>\n",
       "    </tr>\n",
       "    <tr>\n",
       "      <th>10</th>\n",
       "      <td>2023-01-10</td>\n",
       "      <td>STORE</td>\n",
       "      <td>2</td>\n",
       "    </tr>\n",
       "    <tr>\n",
       "      <th>...</th>\n",
       "      <td>...</td>\n",
       "      <td>...</td>\n",
       "      <td>...</td>\n",
       "    </tr>\n",
       "    <tr>\n",
       "      <th>293</th>\n",
       "      <td>2023-12-16</td>\n",
       "      <td>STORE</td>\n",
       "      <td>2</td>\n",
       "    </tr>\n",
       "    <tr>\n",
       "      <th>296</th>\n",
       "      <td>2023-12-20</td>\n",
       "      <td>STORE</td>\n",
       "      <td>1</td>\n",
       "    </tr>\n",
       "    <tr>\n",
       "      <th>298</th>\n",
       "      <td>2023-12-21</td>\n",
       "      <td>STORE</td>\n",
       "      <td>1</td>\n",
       "    </tr>\n",
       "    <tr>\n",
       "      <th>301</th>\n",
       "      <td>2023-12-23</td>\n",
       "      <td>STORE</td>\n",
       "      <td>1</td>\n",
       "    </tr>\n",
       "    <tr>\n",
       "      <th>304</th>\n",
       "      <td>2023-12-26</td>\n",
       "      <td>STORE</td>\n",
       "      <td>2</td>\n",
       "    </tr>\n",
       "  </tbody>\n",
       "</table>\n",
       "<p>142 rows × 3 columns</p>\n",
       "</div>"
      ],
      "text/plain": [
       "    order_date order_source  orders\n",
       "0   2023-01-01        STORE       1\n",
       "2   2023-01-03        STORE       1\n",
       "6   2023-01-06        STORE       1\n",
       "9   2023-01-09        STORE       1\n",
       "10  2023-01-10        STORE       2\n",
       "..         ...          ...     ...\n",
       "293 2023-12-16        STORE       2\n",
       "296 2023-12-20        STORE       1\n",
       "298 2023-12-21        STORE       1\n",
       "301 2023-12-23        STORE       1\n",
       "304 2023-12-26        STORE       2\n",
       "\n",
       "[142 rows x 3 columns]"
      ]
     },
     "execution_count": 474,
     "metadata": {},
     "output_type": "execute_result"
    }
   ],
   "source": [
    "store_orders"
   ]
  },
  {
   "cell_type": "code",
   "execution_count": 475,
   "id": "3f5c726b-66cd-4b29-8564-d31852bd62d3",
   "metadata": {},
   "outputs": [],
   "source": [
    "web_orders.set_index(\"order_date\", inplace=True)"
   ]
  },
  {
   "cell_type": "code",
   "execution_count": 476,
   "id": "bd68f13c-31b1-4993-a3ec-7670636f9ec4",
   "metadata": {},
   "outputs": [],
   "source": [
    "store_orders.set_index(\"order_date\", inplace=True)"
   ]
  },
  {
   "cell_type": "code",
   "execution_count": 477,
   "id": "f01c130e-149d-4dd2-9585-996c5655548d",
   "metadata": {},
   "outputs": [],
   "source": [
    "web_orders_monthly = web_orders.resample(rule=\"ME\")[\"orders\"].sum()"
   ]
  },
  {
   "cell_type": "code",
   "execution_count": 478,
   "id": "20f9f01e-3a60-4ac9-b9c2-b4ea95027702",
   "metadata": {},
   "outputs": [],
   "source": [
    "store_orders_monthly = store_orders.resample(rule=\"ME\")[\"orders\"].sum()"
   ]
  },
  {
   "cell_type": "code",
   "execution_count": 479,
   "id": "3cbf18ee-dc23-44eb-a79e-49ff34b835e2",
   "metadata": {},
   "outputs": [],
   "source": [
    "web_orders_monthly = web_orders_monthly.reset_index(name = \"orders\")"
   ]
  },
  {
   "cell_type": "code",
   "execution_count": 480,
   "id": "4f18b5cf-ad4c-4854-b934-d7db379f23c0",
   "metadata": {},
   "outputs": [],
   "source": [
    "store_orders_monthly = store_orders_monthly.reset_index(name = \"orders\")"
   ]
  },
  {
   "cell_type": "code",
   "execution_count": 481,
   "id": "b4984e15-a1c5-419c-a3d8-1a3d32d69ddb",
   "metadata": {},
   "outputs": [
    {
     "data": {
      "image/png": "[encoded data removed]",
      "text/plain": [
       "<Figure size 640x480 with 1 Axes>"
      ]
     },
     "metadata": {},
     "output_type": "display_data"
    }
   ],
   "source": [
    "plt.plot(web_orders_monthly[\"order_date\"], web_orders_monthly[\"orders\"])\n",
    "plt.plot(store_orders_monthly[\"order_date\"], store_orders_monthly[\"orders\"])\n",
    "plt.title(\"Web vs Store orders by month\")\n",
    "plt.xlabel(\"Month\")\n",
    "plt.ylabel(\"Orders\")\n",
    "plt.legend([\"Web orders\",\"Store orders\"], loc=(1.05,0.85))\n",
    "plt.grid()"
   ]
  },
  {
   "cell_type": "code",
   "execution_count": 482,
   "id": "5741fa15-b728-4839-a745-03b039ba47c8",
   "metadata": {},
   "outputs": [
    {
     "name": "stdout",
     "output_type": "stream",
     "text": [
      "It appears the campain wasnt very effective at the start but after a couple of months it took speed and the web orders started rising while the store orders plummeted.\n"
     ]
    }
   ],
   "source": [
    "print(\"It appears the campain wasnt very effective at the start but after a couple of months it took speed and the web orders started rising while the store orders plummeted.\")"
   ]
  },
  {
   "cell_type": "code",
   "execution_count": 483,
   "id": "fe6b024b-1371-446b-a7a2-4a0bcae5773d",
   "metadata": {},
   "outputs": [],
   "source": [
    "#2."
   ]
  },
  {
   "cell_type": "code",
   "execution_count": 484,
   "id": "16275d6d-7a89-46c7-8bab-a1872ecc45d1",
   "metadata": {},
   "outputs": [
    {
     "data": {
      "text/html": [
       "<div>\n",
       "<style scoped>\n",
       "    .dataframe tbody tr th:only-of-type {\n",
       "        vertical-align: middle;\n",
       "    }\n",
       "\n",
       "    .dataframe tbody tr th {\n",
       "        vertical-align: top;\n",
       "    }\n",
       "\n",
       "    .dataframe thead th {\n",
       "        text-align: right;\n",
       "    }\n",
       "</style>\n",
       "<table border=\"1\" class=\"dataframe\">\n",
       "  <thead>\n",
       "    <tr style=\"text-align: right;\">\n",
       "      <th></th>\n",
       "      <th>order_id</th>\n",
       "      <th>customer_id</th>\n",
       "      <th>delivery_address</th>\n",
       "      <th>delivery_days</th>\n",
       "      <th>order_date</th>\n",
       "      <th>payment_method</th>\n",
       "      <th>order_source</th>\n",
       "      <th>order_total</th>\n",
       "    </tr>\n",
       "  </thead>\n",
       "  <tbody>\n",
       "    <tr>\n",
       "      <th>0</th>\n",
       "      <td>1</td>\n",
       "      <td>477.0</td>\n",
       "      <td>576 Cordelia Place</td>\n",
       "      <td>2.0</td>\n",
       "      <td>2023-12-05</td>\n",
       "      <td>GIFT_CARD</td>\n",
       "      <td>WEBSITE</td>\n",
       "      <td>8554.20</td>\n",
       "    </tr>\n",
       "    <tr>\n",
       "      <th>1</th>\n",
       "      <td>2</td>\n",
       "      <td>93.0</td>\n",
       "      <td>4664 6th Drive</td>\n",
       "      <td>4.0</td>\n",
       "      <td>2023-08-17</td>\n",
       "      <td>CASH</td>\n",
       "      <td>STORE</td>\n",
       "      <td>10148.58</td>\n",
       "    </tr>\n",
       "    <tr>\n",
       "      <th>2</th>\n",
       "      <td>3</td>\n",
       "      <td>474.0</td>\n",
       "      <td>8766 4th Point</td>\n",
       "      <td>4.0</td>\n",
       "      <td>2023-02-25</td>\n",
       "      <td>CHECK</td>\n",
       "      <td>STORE</td>\n",
       "      <td>6843.36</td>\n",
       "    </tr>\n",
       "    <tr>\n",
       "      <th>3</th>\n",
       "      <td>4</td>\n",
       "      <td>333.0</td>\n",
       "      <td>31 Bonner Way</td>\n",
       "      <td>3.0</td>\n",
       "      <td>2023-02-04</td>\n",
       "      <td>CASH</td>\n",
       "      <td>STORE</td>\n",
       "      <td>965.20</td>\n",
       "    </tr>\n",
       "    <tr>\n",
       "      <th>4</th>\n",
       "      <td>5</td>\n",
       "      <td>436.0</td>\n",
       "      <td>20352 Shelley Way</td>\n",
       "      <td>5.0</td>\n",
       "      <td>2023-06-01</td>\n",
       "      <td>CASH</td>\n",
       "      <td>STORE</td>\n",
       "      <td>63944.94</td>\n",
       "    </tr>\n",
       "    <tr>\n",
       "      <th>...</th>\n",
       "      <td>...</td>\n",
       "      <td>...</td>\n",
       "      <td>...</td>\n",
       "      <td>...</td>\n",
       "      <td>...</td>\n",
       "      <td>...</td>\n",
       "      <td>...</td>\n",
       "      <td>...</td>\n",
       "    </tr>\n",
       "    <tr>\n",
       "      <th>398</th>\n",
       "      <td>593</td>\n",
       "      <td>292.0</td>\n",
       "      <td>90001 Kedzie Point</td>\n",
       "      <td>4.0</td>\n",
       "      <td>2023-09-16</td>\n",
       "      <td>CREDIT_CARD</td>\n",
       "      <td>WEBSITE</td>\n",
       "      <td>2301.74</td>\n",
       "    </tr>\n",
       "    <tr>\n",
       "      <th>399</th>\n",
       "      <td>594</td>\n",
       "      <td>480.0</td>\n",
       "      <td>242 Brown Avenue</td>\n",
       "      <td>6.0</td>\n",
       "      <td>2023-02-18</td>\n",
       "      <td>GIFT_CARD</td>\n",
       "      <td>STORE</td>\n",
       "      <td>54186.82</td>\n",
       "    </tr>\n",
       "    <tr>\n",
       "      <th>400</th>\n",
       "      <td>596</td>\n",
       "      <td>110.0</td>\n",
       "      <td>26 Hudson Lane</td>\n",
       "      <td>5.0</td>\n",
       "      <td>2023-10-30</td>\n",
       "      <td>CREDIT_CARD</td>\n",
       "      <td>WEBSITE</td>\n",
       "      <td>5270.24</td>\n",
       "    </tr>\n",
       "    <tr>\n",
       "      <th>401</th>\n",
       "      <td>597</td>\n",
       "      <td>209.0</td>\n",
       "      <td>37392 Sullivan Park</td>\n",
       "      <td>4.0</td>\n",
       "      <td>2023-08-23</td>\n",
       "      <td>CREDIT_CARD</td>\n",
       "      <td>WEBSITE</td>\n",
       "      <td>1710.84</td>\n",
       "    </tr>\n",
       "    <tr>\n",
       "      <th>402</th>\n",
       "      <td>599</td>\n",
       "      <td>72.0</td>\n",
       "      <td>2 Nancy Crossing</td>\n",
       "      <td>4.0</td>\n",
       "      <td>2023-02-09</td>\n",
       "      <td>CASH</td>\n",
       "      <td>STORE</td>\n",
       "      <td>29979.05</td>\n",
       "    </tr>\n",
       "  </tbody>\n",
       "</table>\n",
       "<p>403 rows × 8 columns</p>\n",
       "</div>"
      ],
      "text/plain": [
       "     order_id  customer_id     delivery_address  delivery_days order_date  \\\n",
       "0           1        477.0   576 Cordelia Place            2.0 2023-12-05   \n",
       "1           2         93.0       4664 6th Drive            4.0 2023-08-17   \n",
       "2           3        474.0       8766 4th Point            4.0 2023-02-25   \n",
       "3           4        333.0        31 Bonner Way            3.0 2023-02-04   \n",
       "4           5        436.0    20352 Shelley Way            5.0 2023-06-01   \n",
       "..        ...          ...                  ...            ...        ...   \n",
       "398       593        292.0   90001 Kedzie Point            4.0 2023-09-16   \n",
       "399       594        480.0     242 Brown Avenue            6.0 2023-02-18   \n",
       "400       596        110.0       26 Hudson Lane            5.0 2023-10-30   \n",
       "401       597        209.0  37392 Sullivan Park            4.0 2023-08-23   \n",
       "402       599         72.0     2 Nancy Crossing            4.0 2023-02-09   \n",
       "\n",
       "    payment_method order_source  order_total  \n",
       "0        GIFT_CARD      WEBSITE      8554.20  \n",
       "1             CASH        STORE     10148.58  \n",
       "2            CHECK        STORE      6843.36  \n",
       "3             CASH        STORE       965.20  \n",
       "4             CASH        STORE     63944.94  \n",
       "..             ...          ...          ...  \n",
       "398    CREDIT_CARD      WEBSITE      2301.74  \n",
       "399      GIFT_CARD        STORE     54186.82  \n",
       "400    CREDIT_CARD      WEBSITE      5270.24  \n",
       "401    CREDIT_CARD      WEBSITE      1710.84  \n",
       "402           CASH        STORE     29979.05  \n",
       "\n",
       "[403 rows x 8 columns]"
      ]
     },
     "execution_count": 484,
     "metadata": {},
     "output_type": "execute_result"
    }
   ],
   "source": [
    "orders_df_copy"
   ]
  },
  {
   "cell_type": "code",
   "execution_count": 485,
   "id": "0807bc1d-620f-4422-a57b-13b23487071a",
   "metadata": {},
   "outputs": [],
   "source": [
    "gift_card_orders = orders_df_copy[orders_df_copy[\"payment_method\"] == \"GIFT_CARD\"]"
   ]
  },
  {
   "cell_type": "code",
   "execution_count": 486,
   "id": "a38dbec4-8985-4472-8102-83c51b395557",
   "metadata": {},
   "outputs": [],
   "source": [
    "non_gift_card_orders = orders_df_copy[orders_df_copy[\"payment_method\"] != \"GIFT_CARD\"]"
   ]
  },
  {
   "cell_type": "code",
   "execution_count": 487,
   "id": "20738536-94d8-40b8-b370-eeffe9f440d6",
   "metadata": {},
   "outputs": [],
   "source": [
    "gift_card_orders.set_index(\"order_date\",inplace=True)"
   ]
  },
  {
   "cell_type": "code",
   "execution_count": 488,
   "id": "fce257bb-f27f-4ded-8457-f20f8db63a24",
   "metadata": {},
   "outputs": [],
   "source": [
    "non_gift_card_orders.set_index(\"order_date\",inplace=True)"
   ]
  },
  {
   "cell_type": "code",
   "execution_count": 489,
   "id": "d61d27ca-8428-402a-af4c-b5971148d267",
   "metadata": {},
   "outputs": [],
   "source": [
    "gift_card_orders = gift_card_orders.resample(rule=\"ME\").size()"
   ]
  },
  {
   "cell_type": "code",
   "execution_count": 490,
   "id": "d2632e17-ef92-4686-891d-fc59e3ee78f7",
   "metadata": {},
   "outputs": [],
   "source": [
    "gift_card_orders = gift_card_orders.reset_index(name = \"orders\")"
   ]
  },
  {
   "cell_type": "code",
   "execution_count": 491,
   "id": "160c3917-78eb-433e-a529-7f9ccdab8732",
   "metadata": {},
   "outputs": [],
   "source": [
    "non_gift_card_orders = non_gift_card_orders.resample(rule=\"ME\").size()"
   ]
  },
  {
   "cell_type": "code",
   "execution_count": 492,
   "id": "e0273d2e-ce14-477b-9cd7-e8a4ecd48059",
   "metadata": {},
   "outputs": [],
   "source": [
    "non_gift_card_orders = non_gift_card_orders.reset_index(name = \"orders\")"
   ]
  },
  {
   "cell_type": "code",
   "execution_count": 493,
   "id": "0291f3da-85db-4d51-b9b1-5746ac3f3f3a",
   "metadata": {},
   "outputs": [
    {
     "data": {
      "image/png": "[encoded data removed]",
      "text/plain": [
       "<Figure size 640x480 with 1 Axes>"
      ]
     },
     "metadata": {},
     "output_type": "display_data"
    }
   ],
   "source": [
    "plt.plot(gift_card_orders[\"order_date\"], gift_card_orders[\"orders\"])\n",
    "plt.plot(non_gift_card_orders[\"order_date\"], non_gift_card_orders[\"orders\"])\n",
    "plt.title(\"Giftcard vs non-Giftcard orders by month\")\n",
    "plt.xlabel(\"Month\")\n",
    "plt.ylabel(\"Orders\")\n",
    "plt.legend([\"Gift Card orders\",\"Non-Giftcard orders\"], loc=(1.05,0.85))\n",
    "plt.grid()"
   ]
  },
  {
   "cell_type": "code",
   "execution_count": 494,
   "id": "c3210606-2a5d-4690-8edc-7a1293407974",
   "metadata": {},
   "outputs": [
    {
     "name": "stdout",
     "output_type": "stream",
     "text": [
      "It appears that the campain did not end up increasing sales by a large margin.\n"
     ]
    }
   ],
   "source": [
    "print(\"It appears that the campain did not end up increasing sales by a large margin.\")"
   ]
  },
  {
   "cell_type": "code",
   "execution_count": null,
   "id": "7976a1ba-c196-4c94-85c4-8b6d1c672af9",
   "metadata": {},
   "outputs": [],
   "source": []
  }
 ],
 "metadata": {
  "kernelspec": {
   "display_name": "Python [conda env:base] *",
   "language": "python",
   "name": "conda-base-py"
  },
  "language_info": {
   "codemirror_mode": {
    "name": "ipython",
    "version": 3
   },
   "file_extension": ".py",
   "mimetype": "text/x-python",
   "name": "python",
   "nbconvert_exporter": "python",
   "pygments_lexer": "ipython3",
   "version": "3.13.5"
  }
 },
 "nbformat": 4,
 "nbformat_minor": 5
}
